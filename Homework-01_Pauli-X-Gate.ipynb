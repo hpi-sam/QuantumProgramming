{
 "cells": [
  {
   "cell_type": "markdown",
   "id": "d7fea801",
   "metadata": {},
   "source": [
    "# Homework 1 - Pauli X-Gate\n",
    "\n",
    "The Pauli-X gate is a single-qubit rotation through $\\pi$ radiants around the x-axis in the Bloch sphere.[1]\n",
    "\n",
    "$X = \\begin{bmatrix} 0 && 1 \\\\ 1 && 0 \\end{bmatrix}$\n",
    "\n",
    "To see the effect of this gate, we multiplay the qubit’s statevector by the gate:\n",
    "\n",
    "$X|0\\rangle = \\begin{bmatrix} 0 && 1 \\\\ 1 && 0 \\end{bmatrix}  \\begin{bmatrix} 1 \\\\ 0 \\end{bmatrix} = \\begin{bmatrix} 0 \\\\ 1 \\end{bmatrix} = |1\\rangle$\n",
    "\n",
    "$X|1\\rangle = \\begin{bmatrix} 0 && 1 \\\\ 1 && 0 \\end{bmatrix}  \\begin{bmatrix} 0 \\\\ 1 \\end{bmatrix} = \\begin{bmatrix} 1 \\\\ 0 \\end{bmatrix} = |0\\rangle$\n",
    "\n",
    "Therefore, the X-gate can be used to switch the amplitude of the states $|0\\rangle$ and $|1\\rangle$.[2]\n",
    "\n",
    "* [1] [Quantum Inspire](https://www.quantum-inspire.com/kbase/pauli-x/)\n",
    "* [2] [Qiskit textbook](https://qiskit.org/textbook/ch-states/single-qubit-gates.html#1.-The-Pauli-Gates-)"
   ]
  },
  {
   "cell_type": "markdown",
   "id": "85abeaea",
   "metadata": {},
   "source": [
    "## Environment setup"
   ]
  },
  {
   "cell_type": "code",
   "execution_count": 1,
   "id": "b57987d9",
   "metadata": {},
   "outputs": [],
   "source": [
    "try:\n",
    "    import cirq as cirq\n",
    "except ImportError:\n",
    "    print(\"installing cirq...\")\n",
    "    !pip install --quiet cirq\n",
    "    print(\"installed cirq.\")"
   ]
  },
  {
   "cell_type": "markdown",
   "id": "72cba2cf",
   "metadata": {},
   "source": [
    "## Example - Logical Not\n",
    "\n",
    "As seen in the introduction, the Pauli-X gate can be used to represent classical \"not\" behaviour.\n",
    "\n",
    "Qubits initiated within a cirq cirquit will be in state $|0\\rangle$ by default. In the following simple cirquit we  will use two qubits to see how the Pauli-X gate works.\n",
    "\n",
    "* The qubit q0 will only be initalized and measured. It therefore should be in state $|0\\rangle$ all the time.\n",
    "* The qubit q1 will be initialized and transformed by the Pauli-X gate. It then will be measured and should be in state $|1\\rangle$ all the time.\n",
    "\n",
    "### Create the circuit\n",
    "The following function creates the circuit as decribed above. It explicitly names the qubits as \"q0\" and \"q1\"."
   ]
  },
  {
   "cell_type": "code",
   "execution_count": 2,
   "id": "2326e355",
   "metadata": {},
   "outputs": [],
   "source": [
    "def paulix_example_circuit():\n",
    "    circuit = cirq.Circuit()\n",
    "    q0, q1 = cirq.NamedQubit.range(0, 2, prefix='q')\n",
    "    circuit.append(cirq.X(q1))\n",
    "    return circuit"
   ]
  },
  {
   "cell_type": "markdown",
   "id": "8c3cfd70",
   "metadata": {},
   "source": [
    "To explore a little bit more on the output of cirq measurement statements we will create two circuits. Both of them only differ in the ordering the final measurement is applied in.\n",
    "\n",
    "* Pauli-X circuit 01: the measurement is applied for qubits q0, q1\n",
    "* Pauli-X circuit 10: the measurement is applied for qubits q1, q0"
   ]
  },
  {
   "cell_type": "code",
   "execution_count": 3,
   "id": "0647db6f",
   "metadata": {},
   "outputs": [
    {
     "name": "stdout",
     "output_type": "stream",
     "text": [
      "Pauli-X circuit 01\n",
      "q0: ───────M('result')───\n",
      "           │\n",
      "q1: ───X───M─────────────\n",
      "\n",
      "Pauli-X circuit 10\n",
      "q0: ───────M─────────────\n",
      "           │\n",
      "q1: ───X───M('result')───\n"
     ]
    }
   ],
   "source": [
    "paulix_circuit01 = paulix_example_circuit()\n",
    "paulix_circuit01.append(cirq.measure(cirq.NamedQubit('q0'), cirq.NamedQubit('q1'), key='result'))\n",
    "\n",
    "paulix_circuit10 = paulix_example_circuit()\n",
    "paulix_circuit10.append(cirq.measure(cirq.NamedQubit('q1'), cirq.NamedQubit('q0'), key='result'))\n",
    "\n",
    "# print both circuits\n",
    "print(\"Pauli-X circuit 01\")\n",
    "print(paulix_circuit01)\n",
    "print(\"\\nPauli-X circuit 10\")\n",
    "print(paulix_circuit10)"
   ]
  },
  {
   "cell_type": "markdown",
   "id": "4a07738c",
   "metadata": {},
   "source": [
    "## Simulate execution of the circuit"
   ]
  },
  {
   "cell_type": "code",
   "execution_count": 4,
   "id": "d56486ed",
   "metadata": {},
   "outputs": [
    {
     "name": "stdout",
     "output_type": "stream",
     "text": [
      "Simulate the circuit paulix_circuit01:\n",
      "measurements: result=01\n",
      "output vector: |01⟩\n",
      "\n",
      "Simulate the circuit paulix_circuit10:\n",
      "measurements: result=10\n",
      "output vector: |01⟩\n",
      "\n"
     ]
    }
   ],
   "source": [
    "simulator = cirq.Simulator()\n",
    "\n",
    "print('Simulate the circuit paulix_circuit01:')\n",
    "results = simulator.simulate(paulix_circuit01)\n",
    "print(results)\n",
    "print()\n",
    "\n",
    "print('Simulate the circuit paulix_circuit10:')\n",
    "results = simulator.simulate(paulix_circuit10)\n",
    "print(results)\n",
    "print()"
   ]
  },
  {
   "cell_type": "markdown",
   "id": "0a3b2a34",
   "metadata": {},
   "source": [
    "## Run (sample) the results\n",
    "The following cell runs both circuits. Since the final measurement was applied on both qubits it will pe printed in a densed statement. In the following output we will see what the difference is when applying the densed measurement on qubits (q0, q1) or (q1, q0). We will use a helper function to print the actual bitstring. Without the helper function the default printing would be as decimal number. (Which is little bit confusing for bitstring 01....)"
   ]
  },
  {
   "cell_type": "code",
   "execution_count": 5,
   "id": "8c7a989c",
   "metadata": {},
   "outputs": [
    {
     "name": "stdout",
     "output_type": "stream",
     "text": [
      "Sample the circuit:\n",
      "paulix_circuit01: q0, q1 result: Counter({'01': 1000})\n",
      "paulix_circuit10: q1, q0 result: Counter({'10': 1000})\n"
     ]
    }
   ],
   "source": [
    "# Helper function to format the print output for the mesurement\n",
    "def bitstring(bits):\n",
    "    return \"\".join(str(int(b)) for b in bits)\n",
    "\n",
    "# Now we can sample, which is done by the command run\n",
    "print('Sample the circuit:')\n",
    "samples01 = simulator.run(paulix_circuit01, repetitions=1000)\n",
    "samples10 = simulator.run(paulix_circuit10, repetitions=1000)\n",
    "\n",
    "# Print a histogram of results\n",
    "print('paulix_circuit01: q0, q1 result:', samples01.histogram(key='result', fold_func=bitstring))\n",
    "print('paulix_circuit10: q1, q0 result:', samples10.histogram(key='result', fold_func=bitstring))"
   ]
  },
  {
   "cell_type": "code",
   "execution_count": null,
   "id": "6128d4f3",
   "metadata": {},
   "outputs": [],
   "source": []
  }
 ],
 "metadata": {
  "kernelspec": {
   "display_name": "Python 3",
   "language": "python",
   "name": "python3"
  },
  "language_info": {
   "codemirror_mode": {
    "name": "ipython",
    "version": 3
   },
   "file_extension": ".py",
   "mimetype": "text/x-python",
   "name": "python",
   "nbconvert_exporter": "python",
   "pygments_lexer": "ipython3",
   "version": "3.8.8"
  }
 },
 "nbformat": 4,
 "nbformat_minor": 5
}
