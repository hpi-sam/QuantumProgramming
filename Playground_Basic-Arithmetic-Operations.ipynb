{
 "cells": [
  {
   "cell_type": "markdown",
   "id": "55760ed7",
   "metadata": {},
   "source": [
    "# Quantum Basic Arithmetic Operations\n",
    "\n",
    "In this notebook some circuits for quantum Fourier Transformation (qFT) based operators are experimented with. The idea is to get a feeling how they work.\n",
    "\n",
    "[1] paper: G. Florio 1 and D. Picca (2014): \"Quantum implementation of elementary arithmetic operations\"\n",
    "\n",
    "[2] paper: E. Şahin (2020): \"QUANTUM ARITHMETIC OPERATIONS BASED ON QUANTUM FOURIER TRANSFORM ON SIGNED INTEGERS\"\n",
    "\n",
    "\n",
    "## qFT based addition\n",
    "Based on [2]\n",
    "\n",
    "1. Adder\n",
    "2. Subtractor\n",
    "3. Multiplier\n",
    "\n",
    "\n",
    "### modular adder\n",
    "* consider two _signed_ integers a and b stored in two seperate registers of length n and m respectively, with $n >= m$:\n",
    "  * $|ket a> = |a_1 a_2 ... a_n>$\n",
    "  * $|ket b> = |b_1 b_2 ... b_m>$\n",
    "  \n",
    "* apply qFT on a and its significant information will be in a superposition: $|\\phi_1(a)> = \\frac{(|0> + e^{2\\pi i 0.a_1 a_2 \\dots a_n} |1> )}{2^{1/2}}$\n",
    "  \n",
    "* Consider a quantum phase gate  $ R_k = \\begin{bmatrix} 1 & 0 \\\\ 0 & e^{2\\pi i / 2^k}\\end{bmatrix}$\n",
    "\n",
    "* trace most significant bits -> apply to all qubits\n",
    "\n",
    "* use inverse qFT to optain most significant bits of $a+b$"
   ]
  },
  {
   "cell_type": "code",
   "execution_count": 1,
   "id": "a8289dba",
   "metadata": {},
   "outputs": [],
   "source": [
    "import cirq\n",
    "import numpy as np\n",
    "import bitstring"
   ]
  },
  {
   "cell_type": "markdown",
   "id": "15e43356",
   "metadata": {},
   "source": [
    "Let's defines some helpers."
   ]
  },
  {
   "cell_type": "code",
   "execution_count": 2,
   "id": "30c70607",
   "metadata": {},
   "outputs": [],
   "source": [
    "def simulate(circuit, repetitions=1000):\n",
    "    result = {}\n",
    "    simulator = cirq.Simulator()\n",
    "    results = simulator.simulate(circuit)\n",
    "    samples = simulator.run(circuit, repetitions=repetitions)\n",
    "    return samples\n",
    "\n",
    "\n",
    "class CircuitInitializer(cirq.Circuit):\n",
    "    \n",
    "    def __init__(self, number_a, number_b, *contents: 'cirq.OP_TREE', offset=0):\n",
    "        super().__init__(*contents)\n",
    "        self.cbits_b = self.get_bit_representation(number_b)\n",
    "        self.m = len(self.cbits_b)\n",
    "        self.cbits_a = self.get_bit_representation(number_a, self.m - 1)\n",
    "        self.n = len(self.cbits_a)\n",
    "        self.offset = offset\n",
    "        \n",
    "        self.register_a = cirq.LineQubit.range(self.offset, self.n + self.offset)\n",
    "        self.register_b = cirq.LineQubit.range(self.offset + self.n, self.m + self.n + self.offset)\n",
    "        \n",
    "        self._init_circuit()\n",
    "\n",
    "    def _init_circuit(self):\n",
    "        for i in range(0, self.n):\n",
    "            if 1 == self.cbits_a[i]:\n",
    "                self.append(cirq.X(self.register_a[i]))\n",
    "\n",
    "        for i in range(0, self.m):\n",
    "            if 1 == self.cbits_b[i]:\n",
    "                self.append(cirq.X(self.register_b[i]))\n",
    "    \n",
    "\n",
    "    def get_bit_representation(self, number, min_length=0):\n",
    "        bits = bitstring.BitArray(bin=bin(abs(number)))\n",
    "        while len(bits) < min_length:\n",
    "            bits = [0] + bits\n",
    "\n",
    "        if 0 > number:\n",
    "            bits = ~bits\n",
    "            bits = bitstring.BitArray(bin=bin(int(bits.bin,2) + int('1',2)))\n",
    "        else:\n",
    "            bits = [0] + bits\n",
    "\n",
    "        return bits\n"
   ]
  },
  {
   "cell_type": "markdown",
   "id": "6415a484",
   "metadata": {},
   "source": [
    "Let's define the modular adder."
   ]
  },
  {
   "cell_type": "code",
   "execution_count": 3,
   "id": "e60179f5",
   "metadata": {},
   "outputs": [],
   "source": [
    "class QModularAdder(cirq.Circuit):\n",
    "    \n",
    "    def __init__(self, register_a, register_b, *contents: 'cirq.OP_TREE', debug=False):\n",
    "        if debug:\n",
    "            print(\"QModularAdder\")\n",
    "        super().__init__(*contents)\n",
    "        if debug:\n",
    "            print(\"back in QModularAdder\")\n",
    "        self.register_a = register_a\n",
    "        self.register_b = register_b\n",
    "        self.n = len(self.register_a)\n",
    "        self.m = len(self.register_b)\n",
    "    \n",
    "    def apply(self):\n",
    "        self._apply_qft()\n",
    "        self._apply_modular_adder( self.n, self.m)\n",
    "        self._apply_inverse_qft()\n",
    "        self._apply_measurement()\n",
    "    \n",
    "    def _apply_qft(self):\n",
    "        self.append(cirq.qft(*self.register_a, without_reverse=True))\n",
    "        \n",
    "    def _apply_modular_adder(self, max_a, max_b):\n",
    "        for index_a in range(1, max_a+1):\n",
    "            max_k = min(index_a, max_b)\n",
    "            self._apply_operator(index_a, max_k)\n",
    "                \n",
    "    def _apply_operator(self, index_a, max_k, min_k=1):\n",
    "        k = min_k\n",
    "        while k <= max_k:\n",
    "            self.append(self._rk_gate_operator(k).on(self.register_a[self.n-index_a]).controlled_by(self.register_b[self.m-1-max_k+k]))\n",
    "            k +=1\n",
    "    \n",
    "    def _rk_gate_operator(self, k):\n",
    "        return cirq.MatrixGate(matrix=np.array([[1, 0], [0, np.exp(2 * np.pi * 1.0j / 2 ** k)]]))\n",
    "\n",
    "    def _apply_inverse_qft(self):\n",
    "        self.append(cirq.inverse(cirq.qft(*self.register_a, without_reverse=True)))\n",
    "    \n",
    "    def _apply_measurement(self):\n",
    "        self.append(cirq.measure(*self.register_a, key='result'))"
   ]
  },
  {
   "cell_type": "code",
   "execution_count": 4,
   "id": "81d1c166",
   "metadata": {},
   "outputs": [],
   "source": [
    "def modular_adding(number_a, number_b, print_circuit=False):\n",
    "    circuit = CircuitInitializer(number_a, number_b)\n",
    "\n",
    "    qmadd = QModularAdder(circuit.register_a, circuit.register_b)\n",
    "    qmadd.apply()\n",
    "    circuit += qmadd\n",
    "    \n",
    "    if print_circuit:\n",
    "        print(circuit)\n",
    "    \n",
    "    samples = simulate(circuit, 1000)\n",
    "    return samples"
   ]
  },
  {
   "cell_type": "markdown",
   "id": "5f47561c",
   "metadata": {},
   "source": [
    "Let's put everything together to do some end-to-end testing.\n",
    "We don't deal with negative integers here."
   ]
  },
  {
   "cell_type": "code",
   "execution_count": 5,
   "id": "5289b469",
   "metadata": {},
   "outputs": [
    {
     "name": "stdout",
     "output_type": "stream",
     "text": [
      "                       ┌──────────────────────────────────┐\n",
      "                                         ┌               ┐    ┌             ┐\n",
      "0: ───────qft[norev]─────────────────────│ 1.+0.j  0.+0.j│────│1.+0.j 0.+0.j│───qft[norev]^-1───M('result')───\n",
      "          │                              │ 0.+0.j -1.+0.j│    │0.+0.j 0.+1.j│   │               │\n",
      "          │                              └               ┘    └             ┘   │               │\n",
      "          │                              │                    │                 │               │\n",
      "          │             ┌               ┐│                    │                 │               │\n",
      "1: ───────#2────────────│ 1.+0.j  0.+0.j│┼────────────────────┼─────────────────#2──────────────M─────────────\n",
      "                        │ 0.+0.j -1.+0.j││                    │\n",
      "                        └               ┘│                    │\n",
      "                        │                │                    │\n",
      "2: ─────────────────────┼────────────────@────────────────────┼───────────────────────────────────────────────\n",
      "                        │                                     │\n",
      "3: ───X─────────────────@─────────────────────────────────────@───────────────────────────────────────────────\n",
      "                       └──────────────────────────────────┘\n",
      "Counter({1: 1000})\n",
      "0  +  1 = expected: 1 got: 1\n",
      "Counter({7: 1000})\n",
      "10  +  101 = expected: 111 got: 111\n",
      "Counter({6: 1000})\n",
      "11  +  11 = expected: 110 got: 110\n"
     ]
    }
   ],
   "source": [
    "number_a = 0\n",
    "number_b = 1\n",
    "samples = modular_adding(number_a, number_b, True)\n",
    "print(samples.histogram(key='result'))\n",
    "print(bin(number_a)[2:],' + ',bin(number_b)[2:],'= expected:',bin(number_a + number_b)[2:],'got:',bin(samples.data['result'][0])[2:])\n",
    "\n",
    "\n",
    "number_a = 2\n",
    "number_b = 5\n",
    "samples = modular_adding(number_a, number_b, False)\n",
    "print(samples.histogram(key='result'))\n",
    "print(bin(number_a)[2:],' + ',bin(number_b)[2:],'= expected:',bin(number_a + number_b)[2:],'got:',bin(samples.data['result'][0])[2:])\n",
    "\n",
    "number_a = 3\n",
    "number_b = 3\n",
    "samples = modular_adding(number_a, number_b, False)\n",
    "print(samples.histogram(key='result'))\n",
    "print(bin(number_a)[2:],' + ',bin(number_b)[2:],'= expected:',bin(number_a + number_b)[2:],'got:',bin(samples.data['result'][0])[2:])\n"
   ]
  },
  {
   "cell_type": "markdown",
   "id": "975c5e38",
   "metadata": {},
   "source": [
    "### non-modular adder \n",
    "\n",
    "For the non-modular adder we need an additional ancilla qubit in register a to compensate for the sign of the sum of (a + b).\n",
    "\n",
    "We can reuse the modular adder by enhancing it to adjust to the additional ancilla qubit."
   ]
  },
  {
   "cell_type": "code",
   "execution_count": 6,
   "id": "eb779505",
   "metadata": {},
   "outputs": [],
   "source": [
    "class QNonModularAdder(QModularAdder):\n",
    "    def __init__(self, register_a, register_b, *contents: 'cirq.OP_TREE', debug=False):\n",
    "        if debug:\n",
    "            print(\"QNonModularAdder\")\n",
    "        super().__init__(register_a, register_b, *contents)\n",
    "        if debug:\n",
    "            print(\"back in QNonModularAdder\")\n",
    "        self.register_a = [cirq.LineQubit(0)] + self.register_a\n",
    "        self.n = len(self.register_a)\n",
    "        \n",
    "        self.append(cirq.CCNOT(self.register_b[0], self.register_a[1], self.register_a[0]))\n",
    "        self.append(cirq.CCNOT(self.register_a[1], self.register_b[0], self.register_a[0]))\n",
    "        \n",
    "    \n",
    "    def _apply_modular_adder(self, max_a, max_b):\n",
    "        super()._apply_modular_adder(max_a-1, max_b)\n",
    "        index_a = self.n\n",
    "        max_k = min(index_a, self.m+1)\n",
    "        min_k = 2\n",
    "        self._apply_operator(index_a, max_k, min_k)\n",
    "    \n",
    "\n",
    "def non_modular_adding(number_a, number_b, print_circuit=False):\n",
    "    circuit = CircuitInitializer(number_a, number_b, offset=1)\n",
    "\n",
    "    qnmadd = QNonModularAdder(circuit.register_a, circuit.register_b)\n",
    "    qnmadd.apply()\n",
    "    circuit += qnmadd\n",
    "    \n",
    "    if print_circuit:\n",
    "        print(circuit)\n",
    "    \n",
    "    samples = simulate(circuit, 1000)\n",
    "    return samples"
   ]
  },
  {
   "cell_type": "code",
   "execution_count": 7,
   "id": "e0424036",
   "metadata": {},
   "outputs": [
    {
     "name": "stdout",
     "output_type": "stream",
     "text": [
      "Counter({1: 1000})\n",
      "0  +  1 = expected: 1 got: 1\n",
      "Counter({7: 1000})\n",
      "10  +  101 = expected: 111 got: 111\n",
      "Counter({6: 1000})\n",
      "11  +  11 = expected: 110 got: 110\n",
      "Counter({1: 1000})\n",
      "b1  +  b10 = expected: b11 got: 1\n"
     ]
    }
   ],
   "source": [
    "number_a = 0\n",
    "number_b = 1\n",
    "samples = non_modular_adding(number_a, number_b, False)\n",
    "print(samples.histogram(key='result'))\n",
    "print(bin(number_a)[2:],' + ',bin(number_b)[2:],'= expected:',bin(number_a + number_b)[2:],'got:',bin(samples.data['result'][0])[2:])\n",
    "\n",
    "number_a = 2\n",
    "number_b = 5\n",
    "samples = non_modular_adding(number_a, number_b, False)\n",
    "print(samples.histogram(key='result'))\n",
    "print(bin(number_a)[2:],' + ',bin(number_b)[2:],'= expected:',bin(number_a + number_b)[2:],'got:',bin(samples.data['result'][0])[2:])\n",
    "\n",
    "number_a = 3\n",
    "number_b = 3\n",
    "samples = non_modular_adding(number_a, number_b, False)\n",
    "print(samples.histogram(key='result'))\n",
    "print(bin(number_a)[2:],' + ',bin(number_b)[2:],'= expected:',bin(number_a + number_b)[2:],'got:',bin(samples.data['result'][0])[2:])\n",
    "\n",
    "\n",
    "# not correct...\n",
    "number_a = -1\n",
    "number_b = -2\n",
    "samples = non_modular_adding(number_a, number_b, False)\n",
    "print(samples.histogram(key='result'))\n",
    "print(bin(number_a)[2:],' + ',bin(number_b)[2:],'= expected:',bin(number_a + number_b)[2:],'got:',bin(samples.data['result'][0])[2:])\n"
   ]
  },
  {
   "cell_type": "markdown",
   "id": "9d56c16f",
   "metadata": {},
   "source": [
    "#### Open issues\n",
    "- how to correctly set up toffoli gate?\n",
    "- negative integers as input\n",
    "\n",
    "#### Possible test cases\n",
    "- Endo-to-end tests: pos + pos integer; neg + pos integer; neg + neg integer; \n",
    "- test on circuit structure\n",
    "- mutation: \n",
    "    - insert: additional qubit; additonal rotation\n",
    "    - remove: qubit; toffoli gates; inverse qFT\n",
    "    - change: rotation operator\n",
    "- note: how to test for noise?"
   ]
  },
  {
   "cell_type": "markdown",
   "id": "666a9f60",
   "metadata": {},
   "source": [
    "## qFT based subtraction\n",
    "To implement modular subtraction we can enhance the modular adder.\n",
    "\n",
    "* consider operator $R^{-1} = \\begin{bmatrix} 1 & 0 \\\\ 0 &  e^{-2\\pi i / 2^k}\\end{bmatrix}$"
   ]
  },
  {
   "cell_type": "code",
   "execution_count": 8,
   "id": "c2d9e232",
   "metadata": {},
   "outputs": [],
   "source": [
    "class QModularSubtractor(QModularAdder):\n",
    "    def _rk_gate_operator(self, k):\n",
    "        return cirq.MatrixGate(matrix=np.array([[1, 0], [0, np.exp(-2 * np.pi * 1.0j / 2 ** k)]]))\n",
    "\n",
    "def modular_subtracting(number_a, number_b, print_circuit=False):\n",
    "    circuit = CircuitInitializer(number_a, number_b)\n",
    "\n",
    "    qmsub = QModularSubtractor(circuit.register_a, circuit.register_b)\n",
    "    qmsub.apply()\n",
    "    circuit += qmsub\n",
    "    \n",
    "    if print_circuit:\n",
    "        print(circuit)\n",
    "    \n",
    "    samples = simulate(circuit, 1000)\n",
    "    return samples"
   ]
  },
  {
   "cell_type": "code",
   "execution_count": 9,
   "id": "b0ba6bdb",
   "metadata": {},
   "outputs": [
    {
     "name": "stdout",
     "output_type": "stream",
     "text": [
      "Counter({1: 1000})\n",
      "1  -  0 = expected: 1 got: 1\n",
      "Counter({2: 847, 6: 153})\n",
      "11  -  1 = expected: 10 got: 10\n",
      "Counter({0: 1000})\n",
      "11  -  11 = expected: 0 got: 0\n"
     ]
    }
   ],
   "source": [
    "number_a = 1\n",
    "number_b = 0\n",
    "samples = modular_subtracting(number_a, number_b, False)\n",
    "print(samples.histogram(key='result'))\n",
    "print(bin(number_a)[2:],' - ',bin(number_b)[2:],'= expected:',bin(number_a - number_b)[2:],'got:',bin(samples.data['result'][0])[2:])\n",
    "\n",
    "\n",
    "number_a = 3\n",
    "number_b = 1\n",
    "samples = modular_subtracting(number_a, number_b, False)\n",
    "print(samples.histogram(key='result'))\n",
    "print(bin(number_a)[2:],' - ',bin(number_b)[2:],'= expected:',bin(number_a - number_b)[2:],'got:',bin(samples.data['result'][0])[2:])\n",
    "\n",
    "\n",
    "number_a = 3\n",
    "number_b = 3\n",
    "samples = modular_subtracting(number_a, number_b, False)\n",
    "print(samples.histogram(key='result'))\n",
    "print(bin(number_a)[2:],' - ',bin(number_b)[2:],'= expected:',bin(number_a - number_b)[2:],'got:',bin(samples.data['result'][0])[2:])\n"
   ]
  },
  {
   "cell_type": "code",
   "execution_count": 10,
   "id": "7afe6709",
   "metadata": {},
   "outputs": [
    {
     "name": "stdout",
     "output_type": "stream",
     "text": [
      "QNonModularSubtractor\n"
     ]
    }
   ],
   "source": [
    "class QNonModularSubtractor(QNonModularAdder):\n",
    "    print(\"QNonModularSubtractor\")\n",
    "    def _rk_gate_operator(self, k):\n",
    "        return cirq.MatrixGate(matrix=np.array([[1, 0], [0, np.exp(-2 * np.pi * 1.0j / 2 ** k)]]))\n",
    "\n",
    "def non_modular_subtracting(number_a, number_b, print_circuit=False):\n",
    "    circuit = CircuitInitializer(number_a, number_b, offset=1)\n",
    "\n",
    "    qnmsub = QNonModularSubtractor(circuit.register_a, circuit.register_b)\n",
    "    qnmsub.apply()\n",
    "    circuit += qnmsub\n",
    "    \n",
    "    if print_circuit:\n",
    "        print(circuit)\n",
    "    \n",
    "    samples = simulate(circuit, 1000)\n",
    "    return samples"
   ]
  },
  {
   "cell_type": "code",
   "execution_count": 11,
   "id": "4b9e8367",
   "metadata": {},
   "outputs": [
    {
     "name": "stdout",
     "output_type": "stream",
     "text": [
      "Counter({1: 1000})\n",
      "1  -  0 = expected: 1 got: 1\n",
      "Counter({14: 1000})\n",
      "1  -  11 = expected: b10 got: 1110\n",
      "Counter({0: 1000})\n",
      "b11  -  1 = expected: b100 got: 0\n"
     ]
    }
   ],
   "source": [
    "number_a = 1\n",
    "number_b = 0\n",
    "samples = non_modular_subtracting(number_a, number_b, False)\n",
    "print(samples.histogram(key='result'))\n",
    "print(bin(number_a)[2:],' - ',bin(number_b)[2:],'= expected:',bin(number_a - number_b)[2:],'got:',bin(samples.data['result'][0])[2:])\n",
    "\n",
    "\n",
    "# failed\n",
    "number_a = 1\n",
    "number_b = 3\n",
    "samples = non_modular_subtracting(number_a, number_b, False)\n",
    "print(samples.histogram(key='result'))\n",
    "print(bin(number_a)[2:],' - ',bin(number_b)[2:],'= expected:',bin(number_a - number_b)[2:],'got:',bin(samples.data['result'][0])[2:])\n",
    "\n",
    "\n",
    "# failed\n",
    "number_a = -3\n",
    "number_b = 1\n",
    "samples = non_modular_subtracting(number_a, number_b, False)\n",
    "print(samples.histogram(key='result'))\n",
    "print(bin(number_a)[2:],' - ',bin(number_b)[2:],'= expected:',bin(number_a - number_b)[2:],'got:',bin(samples.data['result'][0])[2:])\n"
   ]
  },
  {
   "cell_type": "markdown",
   "id": "0a6ce67f",
   "metadata": {},
   "source": [
    "#### possible tests\n",
    "- come up with similar tests like qFT based addition\n",
    "    -  try: change: rotation operator\n",
    "- the problem with negative integers stll is present -> experiment with qFT based two's complement method"
   ]
  },
  {
   "cell_type": "markdown",
   "id": "b04944c4",
   "metadata": {},
   "source": [
    "## qFT based Multiplication\n",
    "\n",
    "### qFT based two's complement"
   ]
  },
  {
   "cell_type": "code",
   "execution_count": 23,
   "id": "7d83c64b",
   "metadata": {},
   "outputs": [],
   "source": [
    "class QTwoComplement(cirq.Circuit):\n",
    "    def __init__(self, register_a, *contents: 'cirq.OP_TREE', debug=False):\n",
    "        super().__init__(*contents)\n",
    "        self.register_a = register_a\n",
    "        self.register_one = [cirq.NamedQubit(\"q_one\")]\n",
    "\n",
    "    def apply(self):\n",
    "        self._apply_x_gate(self.register_a)\n",
    "        self._apply_x_gate(self.register_one)\n",
    "        self._apply_qmadd()\n",
    "       # self._apply_measurement()\n",
    "    \n",
    "    def _apply_x_gate(self, register):\n",
    "        for qubit in register:\n",
    "            self.append(cirq.X(qubit))\n",
    "    \n",
    "    def _apply_qmadd(self):\n",
    "        qmadd = QModularAdder(self.register_a, self.register_one)\n",
    "        qmadd.apply()\n",
    "        self.append(qmadd)\n",
    "    def _apply_measurement(self):\n",
    "        self.append(cirq.measure(*self.register_a, key='result'))\n",
    "    \n",
    "\n",
    "def negation(number_a, print_circuit=False):\n",
    "    circuit = CircuitInitializer(number_a, 0)\n",
    "\n",
    "    qnmsub = QTwoComplement(circuit.register_a)\n",
    "    qnmsub.apply()\n",
    "    circuit += qnmsub\n",
    "    \n",
    "    if print_circuit:\n",
    "        print(circuit)\n",
    "    \n",
    "    samples = simulate(circuit, 1000)\n",
    "    return samples"
   ]
  },
  {
   "cell_type": "code",
   "execution_count": 26,
   "id": "06017754",
   "metadata": {},
   "outputs": [
    {
     "name": "stdout",
     "output_type": "stream",
     "text": [
      "Counter({1: 508, 3: 492})\n",
      "Counter({7: 451, 1: 401, 3: 77, 5: 71})\n"
     ]
    }
   ],
   "source": [
    "# failed\n",
    "number_a = 1\n",
    "samples = negation(number_a, False)\n",
    "print(samples.histogram(key='result'))\n",
    "#print(bin(number_a)[2:],' expected:',\"11\",'got:',bin(samples.data['result'][0])[2:])\n",
    "\n",
    "# failed\n",
    "number_a = 3\n",
    "samples = negation(number_a, False)\n",
    "print(samples.histogram(key='result'))\n",
    "#print(bin(number_a)[2:],' expected:',\"101\",'got:',bin(samples.data['result'][0])[2:])\n"
   ]
  },
  {
   "cell_type": "markdown",
   "id": "3dcf7762",
   "metadata": {},
   "source": [
    "Note: implement as operator instead of circuit, since we will need the controlled version of it for the qFT based \"abs\" operator.\n",
    "\n",
    "\n",
    "## Modular Adder with cirq ArithmeticOperation class\n",
    "* https://quantumai.google/cirq/tutorials/shor"
   ]
  },
  {
   "cell_type": "code",
   "execution_count": 486,
   "id": "5c3171dd",
   "metadata": {},
   "outputs": [],
   "source": []
  }
 ],
 "metadata": {
  "kernelspec": {
   "display_name": "Python 3",
   "language": "python",
   "name": "python3"
  },
  "language_info": {
   "codemirror_mode": {
    "name": "ipython",
    "version": 3
   },
   "file_extension": ".py",
   "mimetype": "text/x-python",
   "name": "python",
   "nbconvert_exporter": "python",
   "pygments_lexer": "ipython3",
   "version": "3.8.8"
  }
 },
 "nbformat": 4,
 "nbformat_minor": 5
}
