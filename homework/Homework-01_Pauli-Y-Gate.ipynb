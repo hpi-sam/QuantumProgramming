{
 "cells": [
  {
   "cell_type": "markdown",
   "id": "f1f9c2ec",
   "metadata": {},
   "source": [
    "# Homework 1 - Pauli Y-Gate\n",
    "\n",
    "The Pauli-Y gate is a single-qubit rotation through $\\pi$ radiants around the y-axis in the Bloch sphere.[1]  It maps $|0\\rangle$ to $i|1\\rangle$ and $|1\\rangle$ to $-i|0\\rangle$. [2] In addition to  a qubit flip it also applies a phase shift. \n",
    "\n",
    "$Y = \\begin{bmatrix} 0 && -i \\\\ i && 0 \\end{bmatrix}$\n",
    "\n",
    "$X|0\\rangle = \\begin{bmatrix} 0 && -i \\\\ i && 0 \\end{bmatrix}  \\begin{bmatrix} 1 \\\\ 0 \\end{bmatrix} = \\begin{bmatrix} 0 \\\\ i \\end{bmatrix} = i|1\\rangle$\n",
    "\n",
    "$X|1\\rangle = \\begin{bmatrix} 0 && -i \\\\ i && 0 \\end{bmatrix}  \\begin{bmatrix} 0 \\\\ 1 \\end{bmatrix} = \\begin{bmatrix} -i \\\\ 0 \\end{bmatrix} = -i|0\\rangle$\n",
    "\n",
    "\n",
    "* [1] [Quantum Inspire](https://www.quantum-inspire.com/kbase/pauli-y/)\n",
    "* [2] [Qiskit textbook](https://qiskit.org/textbook/ch-states/single-qubit-gates.html#1.-The-Pauli-Gates-)"
   ]
  },
  {
   "cell_type": "markdown",
   "id": "a4f787d7",
   "metadata": {},
   "source": [
    "## Environment setup"
   ]
  },
  {
   "cell_type": "code",
   "execution_count": 1,
   "id": "098da0f2",
   "metadata": {},
   "outputs": [],
   "source": [
    "try:\n",
    "    import cirq as cirq\n",
    "except ImportError:\n",
    "    print(\"installing cirq...\")\n",
    "    !pip install --quiet cirq\n",
    "    print(\"installed cirq.\")"
   ]
  },
  {
   "cell_type": "markdown",
   "id": "92f089f6",
   "metadata": {},
   "source": [
    "## Example - Compose Hadamard gate\n",
    "\n",
    "The Pauli-X and Pauli-Y gates can be used to compose a Hadamard gate:\n",
    "\n",
    "$Y^{-\\frac{1}{2}}X = \\begin{bmatrix} \\frac{1}{\\sqrt{2}} && \\frac{1}{\\sqrt{2}} \\\\ -\\frac{1}{\\sqrt{2}} && \\frac{1}{\\sqrt{2}} \\end{bmatrix} \\begin{bmatrix} 0 && 1 \\\\ 1 && 0 \\end{bmatrix} = \\begin{bmatrix} \\frac{1}{\\sqrt{2}} && \\frac{1}{\\sqrt{2}} \\\\ \\frac{1}{\\sqrt{2}} && -\\frac{1}{\\sqrt{2}} \\end{bmatrix} = H$\n",
    "\n",
    "* [1] [Unitary matrices and decompositions](https://quantumai.google/cirq/tutorials/basics?hl=ko#unitary_matrices_and_decompositions)\n",
    "* [2] [Hadamard decomposition](http://www.einsteinrelativelyeasy.com/images/Quantum/hadamard_decomposition_3.gif)\n",
    "\n",
    "### Create the circuit\n"
   ]
  },
  {
   "cell_type": "code",
   "execution_count": 2,
   "id": "38c2a094",
   "metadata": {},
   "outputs": [],
   "source": [
    "def pauliy_example_circuit():\n",
    "    circuit = cirq.Circuit()\n",
    "    q0 = cirq.NamedQubit('q0')\n",
    "    circuit.append(cirq.Y(q0)**(-0.5))\n",
    "    circuit.append(cirq.X(q0)**1)\n",
    "    circuit.append(cirq.measure(q0, key='result'))\n",
    "    return circuit"
   ]
  },
  {
   "cell_type": "code",
   "execution_count": 3,
   "id": "c2258960",
   "metadata": {},
   "outputs": [
    {
     "name": "stdout",
     "output_type": "stream",
     "text": [
      "Pauli-Y circuit \n",
      "q0: ───Y^-0.5───X───M('result')───\n"
     ]
    }
   ],
   "source": [
    "pauliy_circuit = pauliy_example_circuit()\n",
    "\n",
    "# print both circuits\n",
    "print(\"Pauli-Y circuit \")\n",
    "print(pauliy_circuit)"
   ]
  },
  {
   "cell_type": "markdown",
   "id": "da38950c",
   "metadata": {},
   "source": [
    "## Simulate execution of the circuit"
   ]
  },
  {
   "cell_type": "code",
   "execution_count": 4,
   "id": "996cd924",
   "metadata": {},
   "outputs": [
    {
     "name": "stdout",
     "output_type": "stream",
     "text": [
      "Simulate the circuit pauliy_circuit:\n",
      "measurements: result=0\n",
      "output vector: (-0.707+0.707j)|0⟩\n",
      "\n"
     ]
    }
   ],
   "source": [
    "simulator = cirq.Simulator()\n",
    "\n",
    "print('Simulate the circuit pauliy_circuit:')\n",
    "results = simulator.simulate(pauliy_circuit)\n",
    "print(results)\n",
    "print()"
   ]
  },
  {
   "cell_type": "markdown",
   "id": "fd28c1ea",
   "metadata": {},
   "source": [
    "## Run (sample) the results"
   ]
  },
  {
   "cell_type": "code",
   "execution_count": 6,
   "id": "e19495ed",
   "metadata": {},
   "outputs": [
    {
     "name": "stdout",
     "output_type": "stream",
     "text": [
      "Sample the circuit:\n",
      "pauliy_circuit: q0 result: Counter({0: 509, 1: 491})\n"
     ]
    }
   ],
   "source": [
    "# Now we can sample, which is done by the command run\n",
    "print('Sample the circuit:')\n",
    "samples = simulator.run(pauliy_circuit, repetitions=1000)\n",
    "\n",
    "# Print a histogram of results\n",
    "print('pauliy_circuit: q0 result:', samples.histogram(key='result'))"
   ]
  },
  {
   "cell_type": "code",
   "execution_count": null,
   "id": "122f6e52",
   "metadata": {},
   "outputs": [],
   "source": []
  }
 ],
 "metadata": {
  "kernelspec": {
   "display_name": "Python 3",
   "language": "python",
   "name": "python3"
  },
  "language_info": {
   "codemirror_mode": {
    "name": "ipython",
    "version": 3
   },
   "file_extension": ".py",
   "mimetype": "text/x-python",
   "name": "python",
   "nbconvert_exporter": "python",
   "pygments_lexer": "ipython3",
   "version": "3.8.8"
  }
 },
 "nbformat": 4,
 "nbformat_minor": 5
}
