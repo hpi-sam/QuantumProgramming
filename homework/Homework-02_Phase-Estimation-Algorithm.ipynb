{
 "cells": [
  {
   "cell_type": "markdown",
   "id": "0c833887",
   "metadata": {},
   "source": [
    "# Phase Estimation Algorithm\n",
    "\n",
    "The Quantum phase estimation algorithm (also referred to as quantum eigenvalue estimation algorithm), is a quantum algorithm to estimate the phase (or eigenvalue) of an eigenvector of a unitary operator.[1]\n",
    "\n",
    "* Unitary operator: Matrix $U$ with $U^*U = UU^* = I$, with $I$ the identity matrix\n",
    "\n",
    "It serves as a central building block for many quantum algorithms and implements a measurement to measure a more complex observable than only individual qubits.[2]\n",
    "\n",
    "We've seen the phase estimation algorithm as a subroutine in Shor's algorithm.\n",
    "\n",
    "## Table of Content\n",
    "* Overview\n",
    "    + Objective\n",
    "    + Background: Why estimating eigenvalues?\n",
    "    + General layout of the algoritm\n",
    "* Implementation\n",
    "* Examples\n",
    "    + unitary 1-qubit gate (Cirq tutorial)\n",
    "    + T-gate (Quiskit textbook)\n",
    "\n",
    "## Overview\n",
    "### Objective\n",
    "For a given unitary operator $U$, the algorithm estimates $\\theta$ in $U|\\phi\\rangle = e^{2\\pi i\\theta}|\\phi\\rangle$. Here $|\\phi\\rangle$ is an eigenvector and $2\\pi i\\theta$ is the corresponding eigenvalue. Since $U$ is unitary, all of its eigenvalues have a norm of $1$.[3]\n",
    "\n",
    "\n",
    "### Bachground: Why estimating eigenvalues?\n",
    "The goal is to map a complex mesurement onto a more simple setup for a measurement. For this the algorithm makes use of an observation in quantum mechanics: a momentum operator generates shifts in position for single particles. This observation can be used in quantum computing to shift a wave in such a way that it is shifted by the eigenvalue $\\lambda$ of the applied unitary operator.[2]\n",
    "\n",
    "=> Further reading keywords:\n",
    "* John von Neumann’s measurement scheme\n",
    "* [Unitarity (physics)](https://en.wikipedia.org/wiki/Unitarity_(physics))\n",
    "* [(Unitary) time evolution](https://physics.stackexchange.com/questions/434883/what-is-meant-by-unitary-time-evolution)\n",
    "\n",
    "\n",
    "### General layout of the algorithm\n",
    "The algorithm prepares an eigenstate of the Hermitian operator in one register and stores the corresponding eigenvalue in a second register.[2]\n",
    "\n",
    "=> we have two registers, each of them clustering multiple qubits\n",
    "\n",
    "Steps:\n",
    "* Setup / initalize the qubits\n",
    "  * Create eigenvector state for all qubits on the first register\n",
    "  * Create super position for all qubits on the second register\n",
    "* Apply controlled unitary operations on the qubits on the second register\n",
    "* Apply inverse quantum Fourier transformation on the first register\n",
    "* Measure  the qubits on the first register\n",
    "\n",
    "\n",
    "\n",
    "\n",
    "References:\n",
    "+ [1] https://en.wikipedia.org/wiki/Quantum_phase_estimation_algorithm\n",
    "+ [2] https://quantum-computing.ibm.com/composer/docs/iqx/guide/quantum-phase-estimation\n",
    "+ [3] https://qiskit.org/textbook/ch-algorithms/quantum-phase-estimation.html\n",
    "+ [4] https://github.com/quantumlib/Cirq/blob/master/examples/phase_estimator.py\n",
    "+ [5] https://qiskit.org/textbook/ch-algorithms/quantum-phase-estimation.html#example_t_gate"
   ]
  },
  {
   "cell_type": "markdown",
   "id": "e70c1154",
   "metadata": {},
   "source": [
    "## Implementation"
   ]
  },
  {
   "cell_type": "code",
   "execution_count": 1,
   "id": "bacdbed2",
   "metadata": {},
   "outputs": [],
   "source": [
    "import cirq\n",
    "import numpy as np"
   ]
  },
  {
   "cell_type": "markdown",
   "id": "b18731ff",
   "metadata": {},
   "source": [
    "#### Class for the QPE Algorithm"
   ]
  },
  {
   "cell_type": "code",
   "execution_count": 2,
   "id": "84ab8f2a",
   "metadata": {},
   "outputs": [],
   "source": [
    "class QuantumPhaseEstimator:\n",
    "    \n",
    "    def __init__(self, eigenstate, unitary_operator, amount_qubits):\n",
    "        self.circuit = cirq.Circuit()\n",
    "        self.ancilla = cirq.LineQubit(amount_qubits)\n",
    "        self.count_qubits = cirq.LineQubit.range(amount_qubits)\n",
    "        self.amount_qubits = amount_qubits\n",
    "        \n",
    "        self.init_qubits(eigenstate)\n",
    "        self.apply_unitary_operator(unitary_operator)\n",
    "        self.circuit.append(cirq.inverse(cirq.qft(*self.count_qubits, without_reverse=True)))\n",
    "        self.circuit.append(cirq.measure(*self.count_qubits, key='phase'))\n",
    "\n",
    "        \n",
    "    def init_qubits(self, eigenstate):\n",
    "        self.apply_superposition(self.count_qubits)\n",
    "        self.circuit = eigenstate(self.circuit, [self.ancilla])\n",
    "\n",
    "        \n",
    "    def apply_superposition(self, qubits):\n",
    "        self.circuit.append(cirq.H(q) for q in self.count_qubits)\n",
    "\n",
    "        \n",
    "    # algorithm quiskit textbook\n",
    "    def apply_unitary_operator(self, operator):\n",
    "        repetitions = 1\n",
    "        for qubit in self.count_qubits:\n",
    "            for j in range(repetitions):\n",
    "                self.circuit.append(operator.on(self.ancilla).controlled_by(qubit))\n",
    "            repetitions *= 2\n",
    "\n",
    "\n",
    "    # algorithm from cirq example\n",
    "    def apply_unitary_operator_v2(self, operator, amount_qubits):\n",
    "        oracle_raised_to_power = [\n",
    "            operator.on(self.ancilla).controlled_by(self.count_qubits[i]) ** (2 ** i) for i in range(len(self.count_qubits))\n",
    "        ]\n",
    "        circuit.append(oracle_raised_to_power)\n",
    "    \n",
    "    \n",
    "    def get_circuit(self):\n",
    "        return self.circuit\n",
    "    \n",
    "    \n",
    "    def estimate(self, target, repetitions):\n",
    "        result = {}\n",
    "        \n",
    "        simulator = cirq.Simulator()\n",
    "        results = simulator.simulate(self.circuit)\n",
    "    \n",
    "        samples = simulator.run(self.circuit, repetitions=repetitions)\n",
    "    \n",
    "        # We now need to divide our result by 2^n to get θ:\n",
    "        result['mode'] = samples.data['phase'].mode()[0]\n",
    "        result['estimation'] = result['mode'] / 2 ** self.amount_qubits\n",
    "        result['error'] = (target - result['estimation']) ** 2\n",
    "\n",
    "        return result\n"
   ]
  },
  {
   "cell_type": "markdown",
   "id": "ae1b485b",
   "metadata": {},
   "source": [
    "#### Helper class to run experiments\n",
    "This helper class runs an the QPE algorithm for a given setting. It also gives some printing outputs about to see how the algorithm performs."
   ]
  },
  {
   "cell_type": "code",
   "execution_count": 3,
   "id": "c30f3c00",
   "metadata": {},
   "outputs": [],
   "source": [
    "class Experiment():\n",
    "    \n",
    "    def __init__(self):\n",
    "        self.errors = []\n",
    "    \n",
    "    \n",
    "    def run(self, target, number_qubits, eigenstate, operator, print_circuit=False):\n",
    "        print(f'Testing with {number_qubits} qubits.')\n",
    "\n",
    "        qpe = QuantumPhaseEstimator(eigenstate, operator, number_qubits)\n",
    "        circuit = qpe.get_circuit()\n",
    "        if(print_circuit):\n",
    "            print(circuit)\n",
    "        \n",
    "        result = qpe.estimate(target, 1000)\n",
    "\n",
    "        self.errors.append(result['error'])\n",
    "        guess = result['estimation']\n",
    "        mode = result['mode']\n",
    "        print(f'target={target:0.4f}, estimate={guess:0.4f}={mode}/{2**number_qubits}')\n",
    "\n",
    "        \n",
    "    def print_error_rate(self):\n",
    "        rms = np.sqrt(sum(self.errors) / len(self.errors))\n",
    "        print(f'RMS Error: {rms:0.4f}\\n')\n"
   ]
  },
  {
   "cell_type": "markdown",
   "id": "1ed1d1e6",
   "metadata": {},
   "source": [
    "## Example from Cirq tutorials [4]\n",
    "An example unitary operator $U$:\n",
    "* U: unitary 1-qubit gate \n",
    "* eigenvector |0>\n",
    "* eigenvalue $e^{2\\pi i\\phi}$\n",
    "\n",
    "$U|0\\rangle = \\begin{bmatrix} e^{2\\pi i\\phi} && 0 \\\\ 0 && 1 \\end{bmatrix}  \\begin{bmatrix} 1 \\\\ 0 \\end{bmatrix} = e^{2\\pi i\\phi}|0\\rangle$\n",
    "\n",
    "The quantum phase estimator will estimate $\\theta$ with:\n",
    "\n",
    "$U|0\\rangle = e^{2\\pi i\\theta}|0\\rangle$\n",
    "\n",
    "=> expected: $\\theta = \\phi$\n",
    "\n",
    "\n",
    "### Implement the example operator and eigenstate"
   ]
  },
  {
   "cell_type": "code",
   "execution_count": 4,
   "id": "ea62a71a",
   "metadata": {},
   "outputs": [],
   "source": [
    "def example_gate(phi):\n",
    "    gate = cirq.MatrixGate(matrix=np.array([[np.exp(2 * np.pi * 1.0j * phi), 0], [0, 1]]))\n",
    "    return gate\n",
    "\n",
    "\n",
    "def eigenvector_state(circuit, qubits):\n",
    "    return circuit"
   ]
  },
  {
   "cell_type": "markdown",
   "id": "568f5e61",
   "metadata": {},
   "source": [
    "### Visualize the circuit for two qubits"
   ]
  },
  {
   "cell_type": "code",
   "execution_count": 5,
   "id": "5c3b7976",
   "metadata": {},
   "outputs": [
    {
     "name": "stdout",
     "output_type": "stream",
     "text": [
      "0: ───H───@─────────────────────────────────────────────────────qft[norev]^-1───M('phase')───\n",
      "          │                                                     │               │\n",
      "1: ───H───┼─────────────────@─────────────────@─────────────────#2──────────────M────────────\n",
      "          │                 │                 │\n",
      "          ┌             ┐   ┌             ┐   ┌             ┐\n",
      "2: ───────│1.+0.j 0.+0.j│───│1.+0.j 0.+0.j│───│1.+0.j 0.+0.j│────────────────────────────────\n",
      "          │0.+0.j 1.+0.j│   │0.+0.j 1.+0.j│   │0.+0.j 1.+0.j│\n",
      "          └             ┘   └             ┘   └             ┘\n"
     ]
    }
   ],
   "source": [
    "number_qubits = 2\n",
    "qpe = QuantumPhaseEstimator(eigenvector_state, example_gate(0), number_qubits)\n",
    "circuit = qpe.get_circuit()\n",
    "print(circuit)"
   ]
  },
  {
   "cell_type": "markdown",
   "id": "3dcde63b",
   "metadata": {},
   "source": [
    "### Run the circuit\n",
    "Let's run a simulation equivalent to the cirq example:\n",
    "\n",
    "* size register 1: 1\n",
    "* size register 2: 8\n",
    "* $\\phi$ in range $[0, 1)$, step size: 0.1"
   ]
  },
  {
   "cell_type": "code",
   "execution_count": 6,
   "id": "c87e7a35",
   "metadata": {},
   "outputs": [
    {
     "name": "stdout",
     "output_type": "stream",
     "text": [
      "Testing with 8 qubits.\n",
      "target=0.0000, estimate=0.0000=0/256\n",
      "Testing with 8 qubits.\n",
      "target=0.1000, estimate=0.1016=26/256\n",
      "Testing with 8 qubits.\n",
      "target=0.2000, estimate=0.1992=51/256\n",
      "Testing with 8 qubits.\n",
      "target=0.3000, estimate=0.3008=77/256\n",
      "Testing with 8 qubits.\n",
      "target=0.4000, estimate=0.3984=102/256\n",
      "Testing with 8 qubits.\n",
      "target=0.5000, estimate=0.5000=128/256\n",
      "Testing with 8 qubits.\n",
      "target=0.6000, estimate=0.6016=154/256\n",
      "Testing with 8 qubits.\n",
      "target=0.7000, estimate=0.6992=179/256\n",
      "Testing with 8 qubits.\n",
      "target=0.8000, estimate=0.8008=205/256\n",
      "Testing with 8 qubits.\n",
      "target=0.9000, estimate=0.8984=230/256\n",
      "RMS Error: 0.0011\n",
      "\n"
     ]
    }
   ],
   "source": [
    "number_qubits = 8\n",
    "targets = np.arange(0, 1, 0.1)\n",
    "\n",
    "experiment = Experiment()\n",
    "\n",
    "for target in np.arange(0, 1, 0.1):\n",
    "    experiment.run(target, number_qubits, eigenvector_state, example_gate(target))\n",
    "\n",
    "experiment.print_error_rate()"
   ]
  },
  {
   "cell_type": "markdown",
   "id": "6e6fd52e",
   "metadata": {},
   "source": [
    "## Example from Quiskit textbook [5]\n",
    "* unitary operator: T-gate\n",
    "* eigenvector: $|1\\rangle$\n",
    "\n",
    "The T-gate adds a phase of $e^{\\frac{i\\pi}{4}}$ to the state $|1\\rangle$:\n",
    "\n",
    "$T|1\\rangle = \\begin{bmatrix} 1 && 0 \\\\ 0 && e^{\\frac{i\\pi}{4}} \\end{bmatrix}  \\begin{bmatrix} 0 \\\\ 1 \\end{bmatrix} = e^{\\frac{i\\pi}{4}}|1\\rangle$\n",
    "\n",
    "The quantum phase estimator will estimate $\\theta$ with:\n",
    "\n",
    "$T|1\\rangle = e^2\\pi i\\theta|1\\rangle$\n",
    "\n",
    "=> expected: $\\theta = \\frac{1}{8}$\n",
    "\n",
    "### Implement the eigenstate"
   ]
  },
  {
   "cell_type": "code",
   "execution_count": 7,
   "id": "fdf6cadb",
   "metadata": {},
   "outputs": [],
   "source": [
    "def eigenvector_state(circuit, qubits):\n",
    "    circuit.append(cirq.X(q) for q in qubits)\n",
    "    return circuit"
   ]
  },
  {
   "cell_type": "markdown",
   "id": "7b1f79cb",
   "metadata": {},
   "source": [
    "### Vizualise and run the circuit"
   ]
  },
  {
   "cell_type": "code",
   "execution_count": 8,
   "id": "6360900d",
   "metadata": {},
   "outputs": [
    {
     "name": "stdout",
     "output_type": "stream",
     "text": [
      "Testing with 3 qubits.\n",
      "0: ───H───@───────────────────────────qft[norev]^-1───M('phase')───\n",
      "          │                           │               │\n",
      "1: ───H───┼───@───@───────────────────#2──────────────M────────────\n",
      "          │   │   │                   │               │\n",
      "2: ───H───┼───┼───┼───@───@───@───@───#3──────────────M────────────\n",
      "          │   │   │   │   │   │   │\n",
      "3: ───X───T───T───T───T───T───T───T────────────────────────────────\n",
      "target=0.1250, estimate=0.1250=1/8\n",
      "RMS Error: 0.0000\n",
      "\n"
     ]
    }
   ],
   "source": [
    "number_qubits = 3\n",
    "target = 1/8\n",
    "\n",
    "experiment = Experiment()\n",
    "experiment.run(target, number_qubits, eigenvector_state, cirq.ops.T, True)\n",
    "experiment.print_error_rate()"
   ]
  },
  {
   "cell_type": "markdown",
   "id": "143ec462",
   "metadata": {},
   "source": [
    "## Summary\n",
    "The quantum phase estimation algorithm is used to estimate eigenvalues of a given unitary operator $U$ and eigenstate $\\phi$. Precisely it estimates $\\theta$ in $U|\\phi\\rangle = e^{2\\pi i\\theta}|\\phi\\rangle$.\n",
    "\n",
    "The eigenstate $\\phi$ depends on the selected unitary operator $U$. This reflects on the initalization step of the algorithm.\n",
    "\n",
    "4 Steps:\n",
    "+ Initialize the qubits => apply correct eigenstates for ancilla qubits\n",
    "+ Apply unitary operator\n",
    "+ Apply inverse Fourier transformation\n",
    "+ Measure counting qubits\n",
    "\n",
    "The number of counting qubits reflects on the overall performance of the algorithm. To get a higher precision more counting qubits can be added. => On real devices this sets noise and performance limits we have today."
   ]
  },
  {
   "cell_type": "markdown",
   "id": "8694b5ae",
   "metadata": {},
   "source": [
    "## Related Works\n",
    "Tutorials with different implementations of the algorithm:\n",
    "+ [4] (Cirq tutorial)\n",
    "+ [3] (Quiskit textbook)\n",
    "+ [2] (IBM quantum computing docs)\n",
    "+ [Iterative QPE](https://qiskit.org/textbook/ch-labs/Lab04_IterativePhaseEstimation.html)\n",
    "\n",
    "Web articles:\n",
    "+ [Medium: Quantum Phase Estimation](https://medium.com/mit-6-s089-intro-to-quantum-computing/quantum-phase-estimation-7f6ab2beeae) (2020)\n",
    "\n",
    "Doctor thesis:\n",
    "+ [Quantum computing, phase estimation and applications](https://arxiv.org/pdf/0803.0909v1.pdf) (2008)\n",
    "\n",
    "\n",
    "Examples: algorithms that uses QPE (variation) as subroutine:\n",
    "+ Shor's algorithm (=> dicussed in this seminar)\n",
    "+ [Quantum counting algorithm](https://en.wikipedia.org/wiki/Quantum_counting_algorithm)"
   ]
  },
  {
   "cell_type": "code",
   "execution_count": null,
   "id": "ee450412",
   "metadata": {},
   "outputs": [],
   "source": []
  }
 ],
 "metadata": {
  "kernelspec": {
   "display_name": "Python 3",
   "language": "python",
   "name": "python3"
  },
  "language_info": {
   "codemirror_mode": {
    "name": "ipython",
    "version": 3
   },
   "file_extension": ".py",
   "mimetype": "text/x-python",
   "name": "python",
   "nbconvert_exporter": "python",
   "pygments_lexer": "ipython3",
   "version": "3.8.8"
  }
 },
 "nbformat": 4,
 "nbformat_minor": 5
}
