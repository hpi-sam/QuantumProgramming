{
 "cells": [
  {
   "cell_type": "markdown",
   "id": "0e209e87",
   "metadata": {},
   "source": [
    "# Initializing Quantum Circuits\n",
    "\n",
    "In this notebook some gates or circuits for quantum state intialization are experimented with. The idea is to get a feeling how they work.\n"
   ]
  },
  {
   "cell_type": "code",
   "execution_count": 5,
   "id": "136b42e1",
   "metadata": {},
   "outputs": [],
   "source": [
    "import cirq\n",
    "import numpy as np\n",
    "\n",
    "class Simulation:\n",
    "    def simulate(self, circuit, repetitions, measurement_key):\n",
    "        result = {}\n",
    "        \n",
    "        simulator = cirq.Simulator()\n",
    "        results = simulator.simulate(circuit)\n",
    "    \n",
    "        samples = simulator.run(circuit, repetitions=repetitions)\n",
    "        result = samples.histogram(key=measurement_key)\n",
    "\n",
    "        return result"
   ]
  },
  {
   "cell_type": "markdown",
   "id": "c492056d",
   "metadata": {},
   "source": [
    "## The Rotation Gates\n",
    "\n",
    "The rotation operator $R_y$-Gate is defined as:\n",
    "\n",
    "$ R_y= \\begin{bmatrix} \\cos{(\\frac{\\theta}{2})} & -\\sin{(\\frac{\\theta}{2})} \\\\ \\sin{(\\frac{\\theta}{2})} & \\cos{(\\frac{\\theta}{2})} \\end{bmatrix}\n",
    "$\n",
    "\n",
    "It is a single-qubit rotation around the $y$-axis where $\\theta$ is a radian."
   ]
  },
  {
   "cell_type": "code",
   "execution_count": 6,
   "id": "50e8e1b1",
   "metadata": {},
   "outputs": [
    {
     "name": "stdout",
     "output_type": "stream",
     "text": [
      "0: ───M('q0')────────────────\n",
      "\n",
      "1: ───M('q1')────────────────\n",
      "\n",
      "2: ───Ry(0.333π)───M('q2')───\n"
     ]
    }
   ],
   "source": [
    "circuit = cirq.Circuit()\n",
    "qubits = cirq.LineQubit.range(0,3,1)\n",
    "#circuit.append(cirq.ry(np.pi/2).on(qubits[0]))\n",
    "#circuit.append(cirq.ry(np.pi/4).on(qubits[1]))\n",
    "circuit.append(cirq.ry(np.pi/3  + 4*np.pi).on(qubits[2]))\n",
    "circuit.append(cirq.measure(qubits[0], key='q0'))\n",
    "circuit.append(cirq.measure(qubits[1], key='q1'))\n",
    "circuit.append(cirq.measure(qubits[2], key='q2'))\n",
    "print(circuit)"
   ]
  },
  {
   "cell_type": "code",
   "execution_count": 7,
   "id": "fc7a5ca2",
   "metadata": {},
   "outputs": [
    {
     "name": "stdout",
     "output_type": "stream",
     "text": [
      "Counter({0: 755, 1: 245})\n"
     ]
    }
   ],
   "source": [
    "simulation = Simulation()\n",
    "runs = 1000\n",
    "measurement = simulation.simulate(circuit, runs, 'q2')\n",
    "print(measurement)\n"
   ]
  },
  {
   "cell_type": "markdown",
   "id": "136e7ce4",
   "metadata": {},
   "source": [
    "## qPCA examples\n",
    "\n",
    "First example: $2 \\times 2$ matrix:\n",
    "\n",
    "$ M = \\begin{bmatrix} 1.5 & 0.5 \\\\ 0.5 & 1.5 \\end{bmatrix} $"
   ]
  },
  {
   "cell_type": "code",
   "execution_count": null,
   "id": "985643ba",
   "metadata": {},
   "outputs": [],
   "source": []
  },
  {
   "cell_type": "code",
   "execution_count": null,
   "id": "61800f81",
   "metadata": {},
   "outputs": [],
   "source": []
  }
 ],
 "metadata": {
  "kernelspec": {
   "display_name": "Python 3",
   "language": "python",
   "name": "python3"
  },
  "language_info": {
   "codemirror_mode": {
    "name": "ipython",
    "version": 3
   },
   "file_extension": ".py",
   "mimetype": "text/x-python",
   "name": "python",
   "nbconvert_exporter": "python",
   "pygments_lexer": "ipython3",
   "version": "3.8.8"
  }
 },
 "nbformat": 4,
 "nbformat_minor": 5
}
