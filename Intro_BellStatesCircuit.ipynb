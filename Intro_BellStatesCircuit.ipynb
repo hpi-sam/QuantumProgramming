{
  "nbformat": 4,
  "nbformat_minor": 0,
  "metadata": {
    "colab": {
      "name": "Intro_BellStatesCircuit.ipynb",
      "provenance": [],
      "collapsed_sections": [],
      "toc_visible": true,
      "authorship_tag": "ABX9TyMWaoheFfFuz8vZItMgYm+P",
      "include_colab_link": true
    },
    "kernelspec": {
      "name": "python3",
      "display_name": "Python 3"
    },
    "language_info": {
      "name": "python"
    }
  },
  "cells": [
    {
      "cell_type": "markdown",
      "metadata": {
        "id": "view-in-github",
        "colab_type": "text"
      },
      "source": [
        "<a href=\"https://colab.research.google.com/github/hpi-sam/QuantumProgramming/blob/main/Intro_BellStatesCircuit.ipynb\" target=\"_parent\"><img src=\"https://colab.research.google.com/assets/colab-badge.svg\" alt=\"Open In Colab\"/></a>"
      ]
    },
    {
      "cell_type": "markdown",
      "metadata": {
        "id": "nYmwKipdE--G"
      },
      "source": [
        "# Hands-on Exercise\n",
        "\n",
        "1. Create a one qbit circuit and Run it to show the superposition phenomenon (uses the Hadamard gate)\n",
        "\n",
        "2. Create and Run the Bell State Circuit to show the entanglement phenomenon (uses the CNOT gate)\n",
        "\n",
        "3. Homework exercises to learn other gates"
      ]
    },
    {
      "cell_type": "code",
      "metadata": {
        "id": "pqqIa-OEq1aY"
      },
      "source": [
        ""
      ],
      "execution_count": null,
      "outputs": []
    },
    {
      "cell_type": "markdown",
      "metadata": {
        "id": "G-Zwt5DcHZR3"
      },
      "source": [
        "## Environment setup"
      ]
    },
    {
      "cell_type": "code",
      "metadata": {
        "id": "vM0Kxnx-E8oF"
      },
      "source": [
        "try:\n",
        "    import cirq\n",
        "except ImportError:\n",
        "    print(\"installing cirq...\")\n",
        "    !pip install --quiet cirq\n",
        "    print(\"installed cirq.\")"
      ],
      "execution_count": 1,
      "outputs": []
    },
    {
      "cell_type": "markdown",
      "metadata": {
        "id": "_JONuCHvVvmT"
      },
      "source": [
        "## Example-1: Create Superposition - The Hadarmard Gate\n",
        "\n",
        "The Hadamard gate corresponds to multiplying the qbit with the following matrix\n",
        "$ H = \\frac{1}{\\sqrt{2}} \\begin{bmatrix} 1 & 1 \\\\ 1 & -1 \\end{bmatrix}$.\n",
        "\n",
        "This maps the basis state $|0\\rangle$ to $\\frac{|0\\rangle + |1\\rangle}{\\sqrt{2}}$ and  $|1\\rangle$ to $\\frac{|0\\rangle - |1\\rangle}{\\sqrt{2}}$\n",
        "\n",
        "This means that the qbit will be 50% of time on 0 and 50% of on 1.\n",
        "\n",
        "So, to see this happening we need to do three steps:\n",
        "1. Create a circuit with Hadamard gate \n",
        "2. Simulate its execution\n",
        "3. Measure the results"
      ]
    },
    {
      "cell_type": "markdown",
      "metadata": {
        "id": "q2eXTIjDZPsI"
      },
      "source": [
        "### Create the circuit with the Hadamard gate"
      ]
    },
    {
      "cell_type": "code",
      "metadata": {
        "colab": {
          "base_uri": "https://localhost:8080/"
        },
        "id": "yE1f6iqBUmzo",
        "outputId": "27d7c259-0435-4b9e-ed1d-0138ef191116"
      },
      "source": [
        "# Create a cicuit to put one qbit in superposition \n",
        "hello_world_circuit = cirq.Circuit()\n",
        "q = cirq.NamedQubit(\"qbit_hello_from_quantum_realm\")\n",
        "hello_world_circuit.append(cirq.H(q))\n",
        "print(hello_world_circuit)"
      ],
      "execution_count": 28,
      "outputs": [
        {
          "output_type": "stream",
          "text": [
            "qbit_hello_from_quantum_realm: ───H───\n"
          ],
          "name": "stdout"
        }
      ]
    },
    {
      "cell_type": "markdown",
      "metadata": {
        "id": "6uh031rypuVr"
      },
      "source": [
        "### Simulate(execute) the circuit"
      ]
    },
    {
      "cell_type": "code",
      "metadata": {
        "colab": {
          "base_uri": "https://localhost:8080/"
        },
        "id": "7uu4ZOTvVu2i",
        "outputId": "cca4dc04-6011-4af3-f286-b4d396524d36"
      },
      "source": [
        "# Initialize Simulator\n",
        "s=cirq.Simulator()\n",
        "\n",
        "print('Simulate the circuit:')\n",
        "results=s.simulate(hello_world_circuit)\n",
        "print(results)\n",
        "print()"
      ],
      "execution_count": 29,
      "outputs": [
        {
          "output_type": "stream",
          "text": [
            "Simulate the circuit:\n",
            "measurements: (no measurements)\n",
            "output vector: 0.707|0⟩ + 0.707|1⟩\n",
            "\n"
          ],
          "name": "stdout"
        }
      ]
    },
    {
      "cell_type": "markdown",
      "metadata": {
        "id": "3czN6Z_DanFA"
      },
      "source": [
        "### Run(sample) the results\n",
        "\n",
        "This is necessary because we are not using a Quantum Computer here. The results printed before are only single-point measure.\n",
        "\n",
        "1. First we need to add a measurement gate\n",
        "2. Second we call run, which does the sampling"
      ]
    },
    {
      "cell_type": "code",
      "metadata": {
        "colab": {
          "base_uri": "https://localhost:8080/"
        },
        "id": "5bB4qFZWa8jk",
        "outputId": "ca2a121f-8821-45af-b359-8e05ec4a9300"
      },
      "source": [
        "#Add a measurement so we can emulate the superposition by sampling the result\n",
        "hello_world_circuit.append(cirq.measure(q, key='result'))\n",
        "print(hello_world_circuit)"
      ],
      "execution_count": 30,
      "outputs": [
        {
          "output_type": "stream",
          "text": [
            "qbit_hello_from_quantum_realm: ───H───M('result')───\n"
          ],
          "name": "stdout"
        }
      ]
    },
    {
      "cell_type": "code",
      "metadata": {
        "colab": {
          "base_uri": "https://localhost:8080/"
        },
        "id": "40J6gJhRbWcS",
        "outputId": "a0030b9e-7514-40e2-aed4-89217a515923"
      },
      "source": [
        "# Now we can sample, which is done by the command run\n",
        "print('Sample the circuit:')\n",
        "samples=s.run(hello_world_circuit, repetitions=1000)\n",
        "# Print a histogram of results\n",
        "print(samples.histogram(key='result'))"
      ],
      "execution_count": 31,
      "outputs": [
        {
          "output_type": "stream",
          "text": [
            "Sample the circuit:\n",
            "Counter({1: 516, 0: 484})\n"
          ],
          "name": "stdout"
        }
      ]
    },
    {
      "cell_type": "markdown",
      "metadata": {
        "id": "_j1dS7Z4GFl_"
      },
      "source": [
        "## Example-2: Create the Bell State Circuit that we learned in class\n",
        "\n",
        "Besides the Hadarmard Gate, we will use the Control Not (CNOT) gate.\n",
        "\n",
        "The CNOT gate flips the second qbit (called the target qbit) if and only if the first qbit (the control qbit) is  ${\\displaystyle |1\\rangle }$. \n",
        "  * So if we apply the CNOT gate to the quantum state:\n",
        "  \n",
        "      $a|00\\rangle + b|01\\rangle + c|10\\rangle + d|11\\rangle$\n",
        "      \n",
        "      we will obtain this:\n",
        "\n",
        "      $a|00\\rangle + b|01\\rangle + c|11\\rangle + d|10\\rangle$\n"
      ]
    },
    {
      "cell_type": "code",
      "metadata": {
        "colab": {
          "base_uri": "https://localhost:8080/"
        },
        "id": "88cUXC_QGQho",
        "outputId": "25262d52-5f8b-4a6b-a525-67b370c61dfa"
      },
      "source": [
        "# Create a circuit to generate a Bell State:\n",
        "# 1/sqrt(2) * ( |00⟩ + |11⟩ )\n",
        "bell_circuit = cirq.Circuit()\n",
        "q0, q1 = cirq.LineQubit.range(2)\n",
        "bell_circuit.append(cirq.H(q0))\n",
        "bell_circuit.append(cirq.CNOT(q0,q1))\n",
        "\n",
        "# print circuit\n",
        "print(\"Bell States circuit\")\n",
        "print(bell_circuit)\n"
      ],
      "execution_count": 41,
      "outputs": [
        {
          "output_type": "stream",
          "text": [
            "Bell States circuit\n",
            "0: ───H───@───\n",
            "          │\n",
            "1: ───────X───\n"
          ],
          "name": "stdout"
        }
      ]
    },
    {
      "cell_type": "markdown",
      "metadata": {
        "id": "uiRNQvDlH0yE"
      },
      "source": [
        "### Simuate the executiong of the circuit\n",
        "\n"
      ]
    },
    {
      "cell_type": "code",
      "metadata": {
        "colab": {
          "base_uri": "https://localhost:8080/"
        },
        "id": "Sr7YzSgxE-gj",
        "outputId": "306dc5da-07e2-43d4-d242-96a9d43b1ed5"
      },
      "source": [
        "# Initialize Simulator\n",
        "s=cirq.Simulator()\n",
        "\n",
        "print('Simulate the circuit:')\n",
        "results=s.simulate(bell_circuit)\n",
        "print(results)\n",
        "print()"
      ],
      "execution_count": 37,
      "outputs": [
        {
          "output_type": "stream",
          "text": [
            "Simulate the circuit:\n",
            "measurements: (no measurements)\n",
            "output vector: 0.707|00⟩ + 0.707|11⟩\n",
            "\n"
          ],
          "name": "stdout"
        }
      ]
    },
    {
      "cell_type": "markdown",
      "metadata": {
        "id": "SHEKETytIINy"
      },
      "source": [
        "### Run(sample) the results\n",
        "\n"
      ]
    },
    {
      "cell_type": "code",
      "metadata": {
        "colab": {
          "base_uri": "https://localhost:8080/"
        },
        "id": "UKppnOBeIHI7",
        "outputId": "cf49b7c1-749d-4b7c-b538-418c95f0db6c"
      },
      "source": [
        "# However for sampling, we need to add a measurement at the end\n",
        "bell_circuit.append(cirq.measure(q0, q1, key='result'))\n",
        "print(bell_circuit)\n",
        "\n"
      ],
      "execution_count": 47,
      "outputs": [
        {
          "output_type": "stream",
          "text": [
            "0: ───H───@───M('result')───\n",
            "          │   │\n",
            "1: ───────X───M─────────────\n"
          ],
          "name": "stdout"
        }
      ]
    },
    {
      "cell_type": "code",
      "metadata": {
        "colab": {
          "base_uri": "https://localhost:8080/"
        },
        "id": "gxtkrAWLLdFF",
        "outputId": "4755cec3-a242-454d-fbf9-9c9b9452925f"
      },
      "source": [
        "# Now we can sample, which is done by the command run\n",
        "print('Sample the circuit:')\n",
        "samples=s.run(bell_circuit, repetitions=2000)\n",
        "# Print a histogram of results\n",
        "print(samples.histogram(key='result'))\n"
      ],
      "execution_count": 48,
      "outputs": [
        {
          "output_type": "stream",
          "text": [
            "Sample the circuit:\n",
            "Counter({3: 1018, 0: 982})\n"
          ],
          "name": "stdout"
        }
      ]
    },
    {
      "cell_type": "code",
      "metadata": {
        "colab": {
          "base_uri": "https://localhost:8080/"
        },
        "id": "SXIXPnFsS03w",
        "outputId": "ce17cdf3-21d6-4256-da9e-b6ca4d646865"
      },
      "source": [
        "#create a copy of previous circuit to compare measurements\n",
        "bell_circuit_2 = cirq.Circuit()\n",
        "q0, q1 = cirq.LineQubit.range(2)\n",
        "bell_circuit_2.append(cirq.H(q0))\n",
        "bell_circuit_2.append(cirq.CNOT(q0,q1))\n",
        "\n",
        "# Initialize Simulator\n",
        "s=cirq.Simulator()\n",
        "\n",
        "print('Simulate the circuit 2:')\n",
        "results=s.simulate(bell_circuit)\n",
        "print(results)\n",
        "print()\n",
        "\n",
        "#Add two measurements\n",
        "bell_circuit_2.append(cirq.measure(q0, key='result q0'))\n",
        "bell_circuit_2.append(cirq.measure(q1, key='result q1'))\n",
        "print(bell_circuit_2)\n",
        "\n",
        "print('Sample the circuit 2:')\n",
        "samples=s.run(bell_circuit_2, repetitions=2000)\n",
        "# Print a histogram of results\n",
        "print(samples.histogram(key='result q0'))\n",
        "print(samples.histogram(key='result q1'))"
      ],
      "execution_count": 52,
      "outputs": [
        {
          "output_type": "stream",
          "text": [
            "Simulate the circuit 2:\n",
            "measurements: result=00\n",
            "output vector: |00⟩\n",
            "\n",
            "0: ───H───@───M('result q0')───\n",
            "          │\n",
            "1: ───────X───M('result q1')───\n",
            "Sample the circuit 2:\n",
            "Counter({0: 1001, 1: 999})\n",
            "Counter({0: 1001, 1: 999})\n"
          ],
          "name": "stdout"
        }
      ]
    },
    {
      "cell_type": "markdown",
      "metadata": {
        "id": "bBdSjtbqHvUa"
      },
      "source": [
        "\n",
        "## Homework-1 \n",
        "- Choose one of the set of gates below\n",
        "- Run a existing example\n",
        "- Explain it to us\n",
        "\n",
        "**Single qbit gates**\n",
        "1. Pauli-X gate (used for logical not)\n",
        "2. Pauli-Y gate (rotates around the Y-axis in the Bloch sphere)\n",
        "3. Pauli-Z gate (same as Pauli-Y, but on Z axis)\n",
        "\n",
        "**Two-qbit gates**\n",
        "4. control-Z gate (used in Grover's algorithm)\n",
        "5. Swap gate (also include the squareSwap)\n",
        "\n",
        "**Measurement gate**\n",
        "6. Choose three examples of using measurement gates\n"
      ]
    }
  ]
}