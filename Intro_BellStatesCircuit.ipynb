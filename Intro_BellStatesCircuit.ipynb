{
  "nbformat": 4,
  "nbformat_minor": 0,
  "metadata": {
    "colab": {
      "name": "Intro_BellStatesCircuit.ipynb",
      "provenance": [],
      "collapsed_sections": [],
      "toc_visible": true,
      "authorship_tag": "ABX9TyMSdaFma7i/wURuGanUJqVe",
      "include_colab_link": true
    },
    "kernelspec": {
      "name": "python3",
      "display_name": "Python 3"
    },
    "language_info": {
      "name": "python"
    }
  },
  "cells": [
    {
      "cell_type": "markdown",
      "metadata": {
        "id": "view-in-github",
        "colab_type": "text"
      },
      "source": [
        "<a href=\"https://colab.research.google.com/github/hpi-sam/QuantumProgramming/blob/main/Intro_BellStatesCircuit.ipynb\" target=\"_parent\"><img src=\"https://colab.research.google.com/assets/colab-badge.svg\" alt=\"Open In Colab\"/></a>"
      ]
    },
    {
      "cell_type": "markdown",
      "metadata": {
        "id": "nYmwKipdE--G"
      },
      "source": [
        "# Hands-on Example with Bell State Circuit"
      ]
    },
    {
      "cell_type": "markdown",
      "metadata": {
        "id": "G-Zwt5DcHZR3"
      },
      "source": [
        "## Environment setup"
      ]
    },
    {
      "cell_type": "code",
      "metadata": {
        "id": "vM0Kxnx-E8oF"
      },
      "source": [
        "try:\n",
        "    import cirq\n",
        "except ImportError:\n",
        "    print(\"installing cirq...\")\n",
        "    !pip install --quiet cirq\n",
        "    print(\"installed cirq.\")"
      ],
      "execution_count": 1,
      "outputs": []
    },
    {
      "cell_type": "markdown",
      "metadata": {
        "id": "_JONuCHvVvmT"
      },
      "source": [
        "## Creating and Measuring Superposition - The Hadarmard Gate\n",
        "\n",
        "The Hadamard gate corresponds to multiplying the qbit with the following matrix\n",
        "$ H = \\frac{1}{\\sqrt{2}} \\begin{bmatrix} 1 & 1 \\\\ 1 & -1 \\end{bmatrix}$.\n",
        "\n",
        "This maps the basis state $|0\\rangle$ to $\\frac{|0\\rangle + |1\\rangle}{\\sqrt{2}}$ and  $|1\\rangle$ to $\\frac{|0\\rangle - |1\\rangle}{\\sqrt{2}}$\n",
        "\n",
        "This means that the qbit will be 50% of time on 0 and 50% of on 1.\n",
        "\n",
        "So, to see this happening we need to do three steps:\n",
        "1. Create a circuit with Hadamard gate \n",
        "2. Simulate its execution\n",
        "3. Measure the results"
      ]
    },
    {
      "cell_type": "markdown",
      "metadata": {
        "id": "q2eXTIjDZPsI"
      },
      "source": [
        "### Create the circuit with the Hadamard gate"
      ]
    },
    {
      "cell_type": "code",
      "metadata": {
        "id": "XBLZYckHXR0k"
      },
      "source": [
        ""
      ],
      "execution_count": null,
      "outputs": []
    },
    {
      "cell_type": "code",
      "metadata": {
        "colab": {
          "base_uri": "https://localhost:8080/"
        },
        "id": "yE1f6iqBUmzo",
        "outputId": "27d7c259-0435-4b9e-ed1d-0138ef191116"
      },
      "source": [
        "# Create a cicuit to put one qbit in superposition \n",
        "hello_world_circuit = cirq.Circuit()\n",
        "q = cirq.NamedQubit(\"qbit_hello_from_quantum_realm\")\n",
        "hello_world_circuit.append(cirq.H(q))\n",
        "print(hello_world_circuit)"
      ],
      "execution_count": 28,
      "outputs": [
        {
          "output_type": "stream",
          "text": [
            "qbit_hello_from_quantum_realm: ───H───\n"
          ],
          "name": "stdout"
        }
      ]
    },
    {
      "cell_type": "markdown",
      "metadata": {
        "id": "3czN6Z_DanFA"
      },
      "source": [
        ""
      ]
    },
    {
      "cell_type": "code",
      "metadata": {
        "colab": {
          "base_uri": "https://localhost:8080/"
        },
        "id": "7uu4ZOTvVu2i",
        "outputId": "cca4dc04-6011-4af3-f286-b4d396524d36"
      },
      "source": [
        "# Initialize Simulator\n",
        "s=cirq.Simulator()\n",
        "\n",
        "print('Simulate the circuit:')\n",
        "results=s.simulate(hello_world_circuit)\n",
        "print(results)\n",
        "print()"
      ],
      "execution_count": 29,
      "outputs": [
        {
          "output_type": "stream",
          "text": [
            "Simulate the circuit:\n",
            "measurements: (no measurements)\n",
            "output vector: 0.707|0⟩ + 0.707|1⟩\n",
            "\n"
          ],
          "name": "stdout"
        }
      ]
    },
    {
      "cell_type": "code",
      "metadata": {
        "colab": {
          "base_uri": "https://localhost:8080/"
        },
        "id": "5bB4qFZWa8jk",
        "outputId": "ca2a121f-8821-45af-b359-8e05ec4a9300"
      },
      "source": [
        "#Add a measurement so we can emulate the superposition by sampling the result\n",
        "hello_world_circuit.append(cirq.measure(q, key='result'))\n",
        "print(hello_world_circuit)"
      ],
      "execution_count": 30,
      "outputs": [
        {
          "output_type": "stream",
          "text": [
            "qbit_hello_from_quantum_realm: ───H───M('result')───\n"
          ],
          "name": "stdout"
        }
      ]
    },
    {
      "cell_type": "code",
      "metadata": {
        "colab": {
          "base_uri": "https://localhost:8080/"
        },
        "id": "40J6gJhRbWcS",
        "outputId": "a0030b9e-7514-40e2-aed4-89217a515923"
      },
      "source": [
        "# Now we can sample, which is done by the command run\n",
        "print('Sample the circuit:')\n",
        "samples=s.run(hello_world_circuit, repetitions=1000)\n",
        "# Print a histogram of results\n",
        "print(samples.histogram(key='result'))"
      ],
      "execution_count": 31,
      "outputs": [
        {
          "output_type": "stream",
          "text": [
            "Sample the circuit:\n",
            "Counter({1: 516, 0: 484})\n"
          ],
          "name": "stdout"
        }
      ]
    },
    {
      "cell_type": "code",
      "metadata": {
        "id": "iPpSUA7Vbh6Q"
      },
      "source": [
        "#Let's print it a bit prettier\n",
        "import matplotlib.pyplot as plt"
      ],
      "execution_count": 32,
      "outputs": []
    },
    {
      "cell_type": "markdown",
      "metadata": {
        "id": "_j1dS7Z4GFl_"
      },
      "source": [
        "##Create the Bell State Circuit that we learned in class\n",
        "\n",
        "We will use two gates: \n",
        "*   Hadamard(H) to convert the qubit from clustering state to uniform superposed state.\n",
        "*   Control not (CNOT) \n",
        "\n"
      ]
    },
    {
      "cell_type": "code",
      "metadata": {
        "colab": {
          "base_uri": "https://localhost:8080/"
        },
        "id": "88cUXC_QGQho",
        "outputId": "ce661066-5603-4703-83c3-34230e020841"
      },
      "source": [
        "# Create a circuit to generate a Bell State:\n",
        "# 1/sqrt(2) * ( |00⟩ + |11⟩ )\n",
        "bell_circuit = cirq.Circuit()\n",
        "q0, q1 = cirq.LineQubit.range(2)\n",
        "bell_circuit.append(cirq.H(q0))\n",
        "bell_circuit.append(cirq.CNOT(q0,q1))\n",
        "\n",
        "# print circuit\n",
        "print(\"circuit\")\n",
        "print(bell_circuit)\n"
      ],
      "execution_count": 21,
      "outputs": [
        {
          "output_type": "stream",
          "text": [
            "circuit\n",
            "0: ───H───@───\n",
            "          │\n",
            "1: ───────X───\n"
          ],
          "name": "stdout"
        }
      ]
    },
    {
      "cell_type": "markdown",
      "metadata": {
        "id": "bBdSjtbqHvUa"
      },
      "source": [
        "**TASK**: Pick three gates to study and explain to us in the next lecture https://quantumai.google/cirq/gates"
      ]
    },
    {
      "cell_type": "markdown",
      "metadata": {
        "id": "uiRNQvDlH0yE"
      },
      "source": [
        "# Simuate the executiong of the circuit\n",
        "\n"
      ]
    },
    {
      "cell_type": "code",
      "metadata": {
        "colab": {
          "base_uri": "https://localhost:8080/"
        },
        "id": "Sr7YzSgxE-gj",
        "outputId": "067245b5-998e-404c-a91d-87b5f04e1d07"
      },
      "source": [
        "# Initialize Simulator\n",
        "s=cirq.Simulator()\n",
        "\n",
        "print('Simulate the circuit:')\n",
        "results=s.simulate(bell_circuit)\n",
        "print(results)\n",
        "print()"
      ],
      "execution_count": 10,
      "outputs": [
        {
          "output_type": "stream",
          "text": [
            "Simulate the circuit:\n",
            "measurements: (no measurements)\n",
            "output vector: 0.707|00⟩ + 0.707|11⟩\n",
            "\n"
          ],
          "name": "stdout"
        }
      ]
    },
    {
      "cell_type": "markdown",
      "metadata": {
        "id": "SHEKETytIINy"
      },
      "source": [
        "### Sample the results\n",
        "\n",
        "This is necessary because we are not using a Quantum Computer here. The results printed before are only single-point measure."
      ]
    },
    {
      "cell_type": "code",
      "metadata": {
        "colab": {
          "base_uri": "https://localhost:8080/"
        },
        "id": "UKppnOBeIHI7",
        "outputId": "336b3630-b3b1-46ec-b851-ae81dd29f016"
      },
      "source": [
        "# However for sampling, we need to add a measurement at the end\n",
        "bell_circuit.append(cirq.measure(q0, q1, key='result'))\n",
        "#bell_circuit.append(cirq.measure(q0, key='result q0'))\n",
        "#bell_circuit.append(cirq.measure(q1, key='result q1'))\n",
        "print(bell_circuit)\n",
        "\n"
      ],
      "execution_count": 14,
      "outputs": [
        {
          "output_type": "stream",
          "text": [
            "0: ───H───@───M('result q0')───M('result')───\n",
            "          │                    │\n",
            "1: ───────X───M('result q1')───M─────────────\n"
          ],
          "name": "stdout"
        }
      ]
    },
    {
      "cell_type": "code",
      "metadata": {
        "colab": {
          "base_uri": "https://localhost:8080/"
        },
        "id": "gxtkrAWLLdFF",
        "outputId": "89156ec8-64c3-4d2b-d105-4bf22706cbc3"
      },
      "source": [
        "# Now we can sample, which is done by the command run\n",
        "print('Sample the circuit:')\n",
        "samples=s.run(bell_circuit, repetitions=1000)\n",
        "# Print a histogram of results\n",
        "print(samples.histogram(key='result q0'))\n",
        "print(samples.histogram(key='result q1'))"
      ],
      "execution_count": 13,
      "outputs": [
        {
          "output_type": "stream",
          "text": [
            "Sample the circuit:\n",
            "Counter({0: 516, 1: 484})\n",
            "Counter({0: 516, 1: 484})\n"
          ],
          "name": "stdout"
        }
      ]
    },
    {
      "cell_type": "code",
      "metadata": {
        "id": "SXIXPnFsS03w"
      },
      "source": [
        "#create a copy to compare measurements\n",
        "bell_circuit_2 = bell_circuit.copy()\n",
        "\n",
        "# Initialize Simulator\n",
        "s=cirq.Simulator()\n",
        "\n",
        "print('Simulate the circuit:')\n",
        "results=s.simulate(bell_circuit)\n",
        "print(results)\n",
        "print()"
      ],
      "execution_count": null,
      "outputs": []
    }
  ]
}