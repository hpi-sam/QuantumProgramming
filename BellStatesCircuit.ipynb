{
  "nbformat": 4,
  "nbformat_minor": 0,
  "metadata": {
    "colab": {
      "name": "BellStatesCircuit.ipynb",
      "provenance": [],
      "collapsed_sections": [],
      "toc_visible": true,
      "include_colab_link": true
    },
    "kernelspec": {
      "name": "python3",
      "display_name": "Python 3"
    },
    "language_info": {
      "name": "python"
    }
  },
  "cells": [
    {
      "cell_type": "markdown",
      "metadata": {
        "id": "view-in-github",
        "colab_type": "text"
      },
      "source": [
        "<a href=\"https://colab.research.google.com/github/hpi-sam/QuantumProgramming/blob/main/BellStatesCircuit.ipynb\" target=\"_parent\"><img src=\"https://colab.research.google.com/assets/colab-badge.svg\" alt=\"Open In Colab\"/></a>"
      ]
    },
    {
      "cell_type": "markdown",
      "metadata": {
        "id": "nYmwKipdE--G"
      },
      "source": [
        "# Hands-on Exercise\n",
        "\n",
        "1. Create a one qbit circuit and Run it to show the superposition phenomenon (uses the Hadamard gate)\n",
        "\n",
        "2. Create and Run the Bell State Circuit to show the entanglement phenomenon (uses the CNOT gate)\n",
        "\n",
        "3. Homework exercises to learn other gates"
      ]
    },
    {
      "cell_type": "code",
      "metadata": {
        "id": "pqqIa-OEq1aY"
      },
      "source": [
        ""
      ],
      "execution_count": null,
      "outputs": []
    },
    {
      "cell_type": "markdown",
      "metadata": {
        "id": "G-Zwt5DcHZR3"
      },
      "source": [
        "## Environment setup"
      ]
    },
    {
      "cell_type": "code",
      "metadata": {
        "id": "vM0Kxnx-E8oF",
        "colab": {
          "base_uri": "https://localhost:8080/"
        },
        "outputId": "810c645e-134d-45a1-e787-74aa04e9c576"
      },
      "source": [
        "try:\n",
        "    import cirq\n",
        "except ImportError:\n",
        "    print(\"installing cirq...\")\n",
        "    !pip install --quiet cirq\n",
        "    print(\"installed cirq.\")"
      ],
      "execution_count": null,
      "outputs": [
        {
          "output_type": "stream",
          "text": [
            "installing cirq...\n",
            "\u001b[K     |████████████████████████████████| 1.8MB 8.3MB/s \n",
            "\u001b[K     |████████████████████████████████| 1.3MB 39.5MB/s \n",
            "\u001b[?25hinstalled cirq.\n"
          ],
          "name": "stdout"
        }
      ]
    },
    {
      "cell_type": "markdown",
      "metadata": {
        "id": "_JONuCHvVvmT"
      },
      "source": [
        "## Example-1: Create Superposition - The Hadarmard Gate\n",
        "\n",
        "The Hadamard gate corresponds to multiplying the qbit with the following matrix\n",
        "$ H = \\frac{1}{\\sqrt{2}} \\begin{bmatrix} 1 & 1 \\\\ 1 & -1 \\end{bmatrix}$.\n",
        "\n",
        "This maps the basis state $|0\\rangle$ to $\\frac{|0\\rangle + |1\\rangle}{\\sqrt{2}}$ and  $|1\\rangle$ to $\\frac{|0\\rangle - |1\\rangle}{\\sqrt{2}}$\n",
        "\n",
        "This means that the qbit will be 50% of time on 0 and 50% of on 1.\n",
        "\n",
        "So, to see this happening we need to do three steps:\n",
        "1. Create a circuit with Hadamard gate \n",
        "2. Simulate its execution\n",
        "3. Measure the results"
      ]
    },
    {
      "cell_type": "markdown",
      "metadata": {
        "id": "q2eXTIjDZPsI"
      },
      "source": [
        "### Create the circuit with the Hadamard gate"
      ]
    },
    {
      "cell_type": "code",
      "metadata": {
        "colab": {
          "base_uri": "https://localhost:8080/",
          "height": 232
        },
        "id": "yE1f6iqBUmzo",
        "outputId": "a83379bf-9cdb-4f88-98a2-7b07fa3f7d57"
      },
      "source": [
        "# Create a cicuit to put one qbit in superposition \n",
        "hello_world_circuit = cirq.Circuit()\n",
        "q = cirq.NamedQubit(\"qbit_hello_from_quantum_realm\")\n",
        "hello_world_circuit.append(cirq.H(q))\n",
        "print(hello_world_circuit)"
      ],
      "execution_count": null,
      "outputs": [
        {
          "output_type": "error",
          "ename": "NameError",
          "evalue": "ignored",
          "traceback": [
            "\u001b[0;31m---------------------------------------------------------------------------\u001b[0m",
            "\u001b[0;31mNameError\u001b[0m                                 Traceback (most recent call last)",
            "\u001b[0;32m<ipython-input-6-4ca22e119067>\u001b[0m in \u001b[0;36m<module>\u001b[0;34m()\u001b[0m\n\u001b[1;32m      1\u001b[0m \u001b[0;31m# Create a cicuit to put one qbit in superposition\u001b[0m\u001b[0;34m\u001b[0m\u001b[0;34m\u001b[0m\u001b[0;34m\u001b[0m\u001b[0m\n\u001b[0;32m----> 2\u001b[0;31m \u001b[0mhello_world_circuit\u001b[0m \u001b[0;34m=\u001b[0m \u001b[0mcirq\u001b[0m\u001b[0;34m.\u001b[0m\u001b[0mCircuit\u001b[0m\u001b[0;34m(\u001b[0m\u001b[0;34m)\u001b[0m\u001b[0;34m\u001b[0m\u001b[0;34m\u001b[0m\u001b[0m\n\u001b[0m\u001b[1;32m      3\u001b[0m \u001b[0mq\u001b[0m \u001b[0;34m=\u001b[0m \u001b[0mcirq\u001b[0m\u001b[0;34m.\u001b[0m\u001b[0mNamedQubit\u001b[0m\u001b[0;34m(\u001b[0m\u001b[0;34m\"qbit_hello_from_quantum_realm\"\u001b[0m\u001b[0;34m)\u001b[0m\u001b[0;34m\u001b[0m\u001b[0;34m\u001b[0m\u001b[0m\n\u001b[1;32m      4\u001b[0m \u001b[0mhello_world_circuit\u001b[0m\u001b[0;34m.\u001b[0m\u001b[0mappend\u001b[0m\u001b[0;34m(\u001b[0m\u001b[0mcirq\u001b[0m\u001b[0;34m.\u001b[0m\u001b[0mH\u001b[0m\u001b[0;34m(\u001b[0m\u001b[0mq\u001b[0m\u001b[0;34m)\u001b[0m\u001b[0;34m)\u001b[0m\u001b[0;34m\u001b[0m\u001b[0;34m\u001b[0m\u001b[0m\n\u001b[1;32m      5\u001b[0m \u001b[0mprint\u001b[0m\u001b[0;34m(\u001b[0m\u001b[0mhello_world_circuit\u001b[0m\u001b[0;34m)\u001b[0m\u001b[0;34m\u001b[0m\u001b[0;34m\u001b[0m\u001b[0m\n",
            "\u001b[0;31mNameError\u001b[0m: name 'cirq' is not defined"
          ]
        }
      ]
    },
    {
      "cell_type": "markdown",
      "metadata": {
        "id": "6uh031rypuVr"
      },
      "source": [
        "### Simulate(execute) the circuit"
      ]
    },
    {
      "cell_type": "code",
      "metadata": {
        "colab": {
          "base_uri": "https://localhost:8080/"
        },
        "id": "7uu4ZOTvVu2i",
        "outputId": "20ad39cd-d9e8-4f25-dc25-36fa9c2baf5b"
      },
      "source": [
        "# Initialize Simulator\n",
        "s=cirq.Simulator()\n",
        "\n",
        "print('Simulate the circuit:')\n",
        "results=s.simulate(hello_world_circuit)\n",
        "print(results)\n",
        "print()"
      ],
      "execution_count": null,
      "outputs": [
        {
          "output_type": "stream",
          "text": [
            "Simulate the circuit:\n",
            "measurements: (no measurements)\n",
            "output vector: 0.707|0⟩ + 0.707|1⟩\n",
            "\n"
          ],
          "name": "stdout"
        }
      ]
    },
    {
      "cell_type": "markdown",
      "metadata": {
        "id": "3czN6Z_DanFA"
      },
      "source": [
        "### Run(sample) the results\n",
        "\n",
        "This is necessary because we are not using a Quantum Computer here. The results printed before are only single-point measure.\n",
        "\n",
        "1. First we need to add a measurement gate\n",
        "2. Second we call run, which does the sampling"
      ]
    },
    {
      "cell_type": "code",
      "metadata": {
        "colab": {
          "base_uri": "https://localhost:8080/"
        },
        "id": "5bB4qFZWa8jk",
        "outputId": "016e9449-731b-4552-bc67-ec7a30dc00f7"
      },
      "source": [
        "#Add a measurement so we can emulate the superposition by sampling the result\n",
        "hello_world_circuit.append(cirq.measure(q, key='result'))\n",
        "print(hello_world_circuit)"
      ],
      "execution_count": null,
      "outputs": [
        {
          "output_type": "stream",
          "text": [
            "qbit_hello_from_quantum_realm: ───H───M('result')───\n"
          ],
          "name": "stdout"
        }
      ]
    },
    {
      "cell_type": "code",
      "metadata": {
        "colab": {
          "base_uri": "https://localhost:8080/"
        },
        "id": "40J6gJhRbWcS",
        "outputId": "614c375b-b5dc-4312-b01f-5e6dff74f7dc"
      },
      "source": [
        "# Now we can sample, which is done by the command run\n",
        "print('Sample the circuit:')\n",
        "samples=s.run(hello_world_circuit, repetitions=1000)\n",
        "# Print a histogram of results\n",
        "print(samples.histogram(key='result'))"
      ],
      "execution_count": null,
      "outputs": [
        {
          "output_type": "stream",
          "text": [
            "Sample the circuit:\n",
            "Counter({0: 519, 1: 481})\n"
          ],
          "name": "stdout"
        }
      ]
    },
    {
      "cell_type": "markdown",
      "metadata": {
        "id": "_j1dS7Z4GFl_"
      },
      "source": [
        "## Example-2: Create the Bell State Circuit that we learned in class\n",
        "\n",
        "Besides the Hadarmard Gate, we will use the Control Not (CNOT) gate.\n",
        "\n",
        "The CNOT gate flips the second qbit (called the target qbit) if and only if the first qbit (the control qbit) is  ${\\displaystyle |1\\rangle }$. \n",
        "  * So if we apply the CNOT gate to the quantum state:\n",
        "  \n",
        "      $a|00\\rangle + b|01\\rangle + c|10\\rangle + d|11\\rangle$\n",
        "      \n",
        "      we will obtain this:\n",
        "\n",
        "      $a|00\\rangle + b|01\\rangle + c|11\\rangle + d|10\\rangle$\n"
      ]
    },
    {
      "cell_type": "code",
      "metadata": {
        "colab": {
          "base_uri": "https://localhost:8080/"
        },
        "id": "88cUXC_QGQho",
        "outputId": "7754a02f-d2b9-42f0-8f90-e738294248d7"
      },
      "source": [
        "# Create a circuit to generate a Bell State:\n",
        "# 1/sqrt(2) * ( |00⟩ + |11⟩ )\n",
        "bell_circuit = cirq.Circuit()\n",
        "q0, q1 = cirq.LineQubit.range(2)\n",
        "bell_circuit.append(cirq.H(q0))\n",
        "bell_circuit.append(cirq.CNOT(q0,q1))\n",
        "\n",
        "# print circuit\n",
        "print(\"Bell States circuit\")\n",
        "print(bell_circuit)\n"
      ],
      "execution_count": null,
      "outputs": [
        {
          "output_type": "stream",
          "text": [
            "Bell States circuit\n",
            "0: ───H───@───\n",
            "          │\n",
            "1: ───────X───\n"
          ],
          "name": "stdout"
        }
      ]
    },
    {
      "cell_type": "markdown",
      "metadata": {
        "id": "uiRNQvDlH0yE"
      },
      "source": [
        "### Simuate the executiong of the circuit\n",
        "\n"
      ]
    },
    {
      "cell_type": "code",
      "metadata": {
        "colab": {
          "base_uri": "https://localhost:8080/"
        },
        "id": "Sr7YzSgxE-gj",
        "outputId": "389d6e5e-db52-49b7-a9d4-528aa94632d8"
      },
      "source": [
        "# Initialize Simulator\n",
        "s=cirq.Simulator()\n",
        "\n",
        "print('Simulate the circuit:')\n",
        "results=s.simulate(bell_circuit)\n",
        "print(results)\n",
        "print()"
      ],
      "execution_count": null,
      "outputs": [
        {
          "output_type": "stream",
          "text": [
            "Simulate the circuit:\n",
            "measurements: (no measurements)\n",
            "output vector: 0.707|00⟩ + 0.707|11⟩\n",
            "\n"
          ],
          "name": "stdout"
        }
      ]
    },
    {
      "cell_type": "markdown",
      "metadata": {
        "id": "SHEKETytIINy"
      },
      "source": [
        "### Run(sample) the results\n",
        "\n"
      ]
    },
    {
      "cell_type": "code",
      "metadata": {
        "colab": {
          "base_uri": "https://localhost:8080/"
        },
        "id": "UKppnOBeIHI7",
        "outputId": "c4059256-48c6-465b-88be-e26a2620973d"
      },
      "source": [
        "# However for sampling, we need to add a measurement at the end\n",
        "bell_circuit.append(cirq.measure(q0, q1, key='result'))\n",
        "print(bell_circuit)\n",
        "\n"
      ],
      "execution_count": null,
      "outputs": [
        {
          "output_type": "stream",
          "text": [
            "0: ───H───@───M('result')───\n",
            "          │   │\n",
            "1: ───────X───M─────────────\n"
          ],
          "name": "stdout"
        }
      ]
    },
    {
      "cell_type": "code",
      "metadata": {
        "colab": {
          "base_uri": "https://localhost:8080/"
        },
        "id": "gxtkrAWLLdFF",
        "outputId": "8b504cc1-1c60-4726-97b7-f50a44ce30dc"
      },
      "source": [
        "# Now we can sample, which is done by the command run\n",
        "print('Sample the circuit:')\n",
        "samples=s.run(bell_circuit, repetitions=2000)\n",
        "# Print a histogram of results\n",
        "print(samples.histogram(key='result'))\n"
      ],
      "execution_count": null,
      "outputs": [
        {
          "output_type": "stream",
          "text": [
            "Sample the circuit:\n",
            "Counter({3: 1007, 0: 993})\n"
          ],
          "name": "stdout"
        }
      ]
    },
    {
      "cell_type": "markdown",
      "metadata": {
        "id": "bBdSjtbqHvUa"
      },
      "source": [
        "\n",
        "## Homework-1 \n",
        "- Choose one of the set of gates below\n",
        "- Run a existing example\n",
        "- Explain it to us\n",
        "\n",
        "**Single qbit gates**\n",
        "1. Pauli-X gate (used for logical not)\n",
        "2. Pauli-Y gate (rotates around the Y-axis in the Bloch sphere)\n",
        "3. Pauli-Z gate (same as Pauli-Y, but on Z axis)\n",
        "\n",
        "**Two-qbit gates**\n",
        "4. control-Z gate (used in Grover's algorithm)\n",
        "5. Swap gate (also include the squareSwap)\n",
        "\n",
        "**Measurement gate**\n",
        "6. Choose three examples of using measurement gates\n",
        "\n",
        "**References in cirq**\n",
        "https://quantumai.google/cirq\n",
        "https://quantumai.google/cirq/gates\n",
        "\n",
        "**References in Python (really good)**\n",
        "https://qiskit.org/textbook/ch-states/single-qubit-gates.html \n",
        "\n",
        "\n"
      ]
    }
  ]
}