{
  "nbformat": 4,
  "nbformat_minor": 0,
  "metadata": {
    "colab": {
      "name": "BellStatesCircuit.ipynb",
      "provenance": [],
      "collapsed_sections": [],
      "toc_visible": true,
      "include_colab_link": true
    },
    "kernelspec": {
      "name": "python3",
      "display_name": "Python 3"
    },
    "language_info": {
      "name": "python"
    }
  },
  "cells": [
    {
      "cell_type": "markdown",
      "metadata": {
        "id": "view-in-github",
        "colab_type": "text"
      },
      "source": [
        "<a href=\"https://colab.research.google.com/github/hpi-sam/QuantumProgramming/blob/main/BellStatesCircuit.ipynb\" target=\"_parent\"><img src=\"https://colab.research.google.com/assets/colab-badge.svg\" alt=\"Open In Colab\"/></a>"
      ]
    },
    {
      "cell_type": "markdown",
      "metadata": {
        "id": "nYmwKipdE--G"
      },
      "source": [
        "# Hands-on Exercise\n",
        "\n",
        "1. Create a one qbit circuit and Run it to show the superposition phenomenon (uses the Hadamard gate)\n",
        "\n",
        "2. Create and Run the Bell State Circuit to show the entanglement phenomenon (uses the CNOT gate)\n",
        "\n",
        "3. Homework exercises to learn other gates"
      ]
    },
    {
      "cell_type": "markdown",
      "metadata": {
        "id": "G-Zwt5DcHZR3"
      },
      "source": [
        "## Environment setup"
      ]
    },
    {
      "cell_type": "code",
      "metadata": {
        "id": "vM0Kxnx-E8oF"
      },
      "source": [
        "try:\n",
        "    import cirq as cirq\n",
        "except ImportError:\n",
        "    print(\"installing cirq...\")\n",
        "    !pip install --quiet cirq\n",
        "    print(\"installed cirq.\")"
      ],
      "execution_count": 4,
      "outputs": []
    },
    {
      "cell_type": "markdown",
      "metadata": {
        "id": "_JONuCHvVvmT"
      },
      "source": [
        "## Example-1: Create Superposition - The Hadarmard Gate\n",
        "\n",
        "The Hadamard gate corresponds to multiplying the qbit with the following matrix\n",
        "$ H = \\frac{1}{\\sqrt{2}} \\begin{bmatrix} 1 & 1 \\\\ 1 & -1 \\end{bmatrix}$.\n",
        "\n",
        "This maps the basis state $|0\\rangle$ to $\\frac{|0\\rangle + |1\\rangle}{\\sqrt{2}}$ and  $|1\\rangle$ to $\\frac{|0\\rangle - |1\\rangle}{\\sqrt{2}}$\n",
        "\n",
        "This means that the qbit will be 50% of time on 0 and 50% of on 1.\n",
        "\n",
        "So, to see this happening we need to do three steps:\n",
        "1. Create a circuit with Hadamard gate \n",
        "2. Simulate its execution\n",
        "3. Measure the results"
      ]
    },
    {
      "cell_type": "markdown",
      "metadata": {
        "id": "q2eXTIjDZPsI"
      },
      "source": [
        "### Create the circuit with the Hadamard gate"
      ]
    },
    {
      "cell_type": "code",
      "metadata": {
        "colab": {
          "base_uri": "https://localhost:8080/"
        },
        "id": "yE1f6iqBUmzo",
        "outputId": "2618d74d-1d28-4088-e760-eeda9850576e"
      },
      "source": [
        "# Create a cicuit to put one qbit in superposition \n",
        "hello_world_circuit = cirq.Circuit()\n",
        "q = cirq.NamedQubit(\"qbit_hello_from_quantum_realm\")\n",
        "hello_world_circuit.append(cirq.H(q))\n",
        "print(hello_world_circuit)"
      ],
      "execution_count": 10,
      "outputs": [
        {
          "output_type": "stream",
          "text": [
            "qbit_hello_from_quantum_realm: ───H───\n"
          ],
          "name": "stdout"
        }
      ]
    },
    {
      "cell_type": "markdown",
      "metadata": {
        "id": "6uh031rypuVr"
      },
      "source": [
        "### Simulate(execute) the circuit"
      ]
    },
    {
      "cell_type": "code",
      "metadata": {
        "colab": {
          "base_uri": "https://localhost:8080/"
        },
        "id": "7uu4ZOTvVu2i",
        "outputId": "c12e4caa-a606-47f2-a55e-70d4cfa4a279"
      },
      "source": [
        "# Initialize Simulator\n",
        "s=cirq.Simulator()\n",
        "\n",
        "print('Simulate the circuit:')\n",
        "results=s.simulate(hello_world_circuit)\n",
        "print(results)\n",
        "print()"
      ],
      "execution_count": 6,
      "outputs": [
        {
          "output_type": "stream",
          "text": [
            "Simulate the circuit:\n",
            "measurements: (no measurements)\n",
            "output vector: 0.707|0⟩ + 0.707|1⟩\n",
            "\n"
          ],
          "name": "stdout"
        }
      ]
    },
    {
      "cell_type": "markdown",
      "metadata": {
        "id": "3czN6Z_DanFA"
      },
      "source": [
        "### Run(sample) the results\n",
        "\n",
        "This is necessary because we are not using a Quantum Computer here. The results printed before are only single-point measure.\n",
        "\n",
        "1. First we need to add a measurement gate\n",
        "2. Second we call run, which does the sampling"
      ]
    },
    {
      "cell_type": "code",
      "metadata": {
        "colab": {
          "base_uri": "https://localhost:8080/"
        },
        "id": "5bB4qFZWa8jk",
        "outputId": "0005d878-3f47-47f7-8d8e-2d81aada8612"
      },
      "source": [
        "#Add a measurement so we can emulate the superposition by sampling the result\n",
        "hello_world_circuit.append(cirq.measure(q, key='result'))\n",
        "print(hello_world_circuit)"
      ],
      "execution_count": 11,
      "outputs": [
        {
          "output_type": "stream",
          "text": [
            "qbit_hello_from_quantum_realm: ───H───M('result')───\n"
          ],
          "name": "stdout"
        }
      ]
    },
    {
      "cell_type": "code",
      "metadata": {
        "colab": {
          "base_uri": "https://localhost:8080/"
        },
        "id": "40J6gJhRbWcS",
        "outputId": "ab6db10f-4c7f-46fc-e0b1-acfa2a4d775b"
      },
      "source": [
        "# Now we can sample, which is done by the command run\n",
        "print('Sample the circuit:')\n",
        "samples=s.run(hello_world_circuit, repetitions=2000)\n",
        "# Print a histogram of results\n",
        "print(samples.histogram(key='result'))"
      ],
      "execution_count": 21,
      "outputs": [
        {
          "output_type": "stream",
          "text": [
            "Sample the circuit:\n",
            "Counter({1: 1002, 0: 998})\n"
          ],
          "name": "stdout"
        }
      ]
    },
    {
      "cell_type": "markdown",
      "metadata": {
        "id": "_j1dS7Z4GFl_"
      },
      "source": [
        "## Example-2: Create the Bell State Circuit that we learned in class\n",
        "\n",
        "Besides the Hadarmard Gate, we will use the Control Not (CNOT) gate.\n",
        "\n",
        "The CNOT gate flips the second qbit (called the target qbit) if and only if the first qbit (the control qbit) is  ${\\displaystyle |1\\rangle }$. \n",
        "  * So if we apply the CNOT gate to the quantum state:\n",
        "  \n",
        "      $a|00\\rangle + b|01\\rangle + c|10\\rangle + d|11\\rangle$\n",
        "      \n",
        "      we will obtain this:\n",
        "\n",
        "      $a|00\\rangle + b|01\\rangle + c|11\\rangle + d|10\\rangle$\n"
      ]
    },
    {
      "cell_type": "code",
      "metadata": {
        "colab": {
          "base_uri": "https://localhost:8080/"
        },
        "id": "88cUXC_QGQho",
        "outputId": "d0b87143-66d8-48da-a47a-40659a0cd1f8"
      },
      "source": [
        "# Create a circuit to generate a Bell State:\n",
        "# 1/sqrt(2) * ( |00⟩ + |11⟩ )\n",
        "bell_circuit = cirq.Circuit()\n",
        "q0, q1 = cirq.LineQubit.range(2)\n",
        "bell_circuit.append(cirq.H(q0))\n",
        "bell_circuit.append(cirq.CNOT(q0,q1))\n",
        "\n",
        "# print circuit\n",
        "print(\"Bell States circuit\")\n",
        "print(bell_circuit)\n"
      ],
      "execution_count": 22,
      "outputs": [
        {
          "output_type": "stream",
          "text": [
            "Bell States circuit\n",
            "0: ───H───@───\n",
            "          │\n",
            "1: ───────X───\n"
          ],
          "name": "stdout"
        }
      ]
    },
    {
      "cell_type": "markdown",
      "metadata": {
        "id": "uiRNQvDlH0yE"
      },
      "source": [
        "### Simuate the executiong of the circuit\n",
        "\n"
      ]
    },
    {
      "cell_type": "code",
      "metadata": {
        "colab": {
          "base_uri": "https://localhost:8080/"
        },
        "id": "Sr7YzSgxE-gj",
        "outputId": "549aca6b-aac9-47e5-d2ae-d131fb0d8b00"
      },
      "source": [
        "# Initialize Simulator\n",
        "s=cirq.Simulator()\n",
        "\n",
        "print('Simulate the circuit:')\n",
        "results=s.simulate(bell_circuit)\n",
        "print(results)\n",
        "print()"
      ],
      "execution_count": 23,
      "outputs": [
        {
          "output_type": "stream",
          "text": [
            "Simulate the circuit:\n",
            "measurements: (no measurements)\n",
            "output vector: 0.707|00⟩ + 0.707|11⟩\n",
            "\n"
          ],
          "name": "stdout"
        }
      ]
    },
    {
      "cell_type": "markdown",
      "metadata": {
        "id": "SHEKETytIINy"
      },
      "source": [
        "### Run(sample) the results\n",
        "\n"
      ]
    },
    {
      "cell_type": "code",
      "metadata": {
        "colab": {
          "base_uri": "https://localhost:8080/"
        },
        "id": "UKppnOBeIHI7",
        "outputId": "7d21dc62-bb63-4c23-b04c-71b9b817a5bc"
      },
      "source": [
        "# However for sampling, we need to add a measurement at the end\n",
        "bell_circuit.append(cirq.measure(q0, q1, key='result'))\n",
        "print(bell_circuit)\n",
        "\n"
      ],
      "execution_count": 24,
      "outputs": [
        {
          "output_type": "stream",
          "text": [
            "0: ───H───@───M('result')───\n",
            "          │   │\n",
            "1: ───────X───M─────────────\n"
          ],
          "name": "stdout"
        }
      ]
    },
    {
      "cell_type": "code",
      "metadata": {
        "colab": {
          "base_uri": "https://localhost:8080/"
        },
        "id": "gxtkrAWLLdFF",
        "outputId": "c5fb923c-e7a2-4737-fbca-84e0dfb430b3"
      },
      "source": [
        "# Now we can sample, which is done by the command run\n",
        "print('Sample the circuit:')\n",
        "samples=s.run(bell_circuit, repetitions=1000)\n",
        "# Print a histogram of results\n",
        "print(samples.histogram(key='result'))\n"
      ],
      "execution_count": 28,
      "outputs": [
        {
          "output_type": "stream",
          "text": [
            "Sample the circuit:\n",
            "Counter({3: 503, 0: 497})\n"
          ],
          "name": "stdout"
        }
      ]
    },
    {
      "cell_type": "markdown",
      "metadata": {
        "id": "bBdSjtbqHvUa"
      },
      "source": [
        "\n",
        "## Homework-1 \n",
        "- Choose one of the set of gates below\n",
        "- Run a existing example\n",
        "- Explain it to us\n",
        "\n",
        "**Single qbit gates**\n",
        "1. Pauli-X gate (used for logical not) (Selina)\n",
        "2. Pauli-Y gate (rotates around the Y-axis in the Bloch sphere) (Selina)\n",
        "3. Pauli-Z gate (same as Pauli-Y, but on Z axis) (Philipp)\n",
        "\n",
        "**Two-qbit gates**\n",
        "4. control-Z gate (used in Grover's algorithm) (Philipp)\n",
        "5. Swap gate (also include the squareSwap)( Leon)\n",
        "\n",
        "**Measurement gate**\n",
        "6. Choose three examples of using measurement gates (All)\n",
        "\n",
        "**References in cirq**\n",
        "- https://quantumai.google/cirq\n",
        "- https://quantumai.google/cirq/gates\n",
        "\n",
        "**References in Python (really good)**\n",
        "- https://qiskit.org/textbook/ch-states/single-qubit-gates.html \n",
        "\n",
        "\n"
      ]
    }
  ]
}