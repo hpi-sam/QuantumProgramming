{
  "nbformat": 4,
  "nbformat_minor": 0,
  "metadata": {
    "colab": {
      "name": "BellStatesCircuit.ipynb",
      "provenance": [],
      "collapsed_sections": [],
      "toc_visible": true,
      "include_colab_link": true
    },
    "kernelspec": {
      "name": "python3",
      "display_name": "Python 3",
      "language": "python"
    },
    "language_info": {
      "name": "python",
      "version": "3.8.5-final"
    }
  },
  "cells": [
    {
      "cell_type": "markdown",
      "metadata": {
        "id": "bBdSjtbqHvUa"
      },
      "source": [
        "\n",
        "## Homework-1 \n",
        "- Choose one of the set of gates below\n",
        "- Run a existing example\n",
        "- Explain it to us\n",
        "\n",
        "**Single qbit gates**\n",
        "1. Pauli-X gate (used for logical not) (Selina)\n",
        "2. Pauli-Y gate (rotates around the Y-axis in the Bloch sphere) (Selina)\n",
        "3. Pauli-Z gate (same as Pauli-Y, but on Z axis) (Philipp)\n",
        "\n",
        "**Two-qbit gates**\n",
        "4. control-Z gate (used in Grover's algorithm) (Philipp)\n",
        "5. Swap gate (also include the squareSwap)( Leon)\n",
        "\n",
        "**Measurement gate**\n",
        "6. Choose three examples of using measurement gates (All)\n",
        "\n",
        "**References in cirq**\n",
        "- https://quantumai.google/cirq\n",
        "- https://quantumai.google/cirq/gates\n",
        "\n",
        "**References in Python (really good)**\n",
        "- https://qiskit.org/textbook/ch-states/single-qubit-gates.html \n",
        "\n",
        "\n"
      ]
    },
    {
      "cell_type": "markdown",
      "metadata": {
        "id": "G-Zwt5DcHZR3"
      },
      "source": [
        "## Environment setup"
      ]
    },
    {
      "cell_type": "code",
      "metadata": {
        "id": "vM0Kxnx-E8oF"
      },
      "source": [
        "try:\n",
        "    import cirq as cirq\n",
        "except ImportError:\n",
        "    print(\"installing cirq...\")\n",
        "    !pip install --quiet cirq\n",
        "    print(\"installed cirq.\")"
      ],
      "execution_count": 5,
      "outputs": []
    },
    {
      "source": [
        "### Trying out the SWAP gate"
      ],
      "cell_type": "markdown",
      "metadata": {}
    },
    {
      "cell_type": "code",
      "execution_count": 50,
      "metadata": {},
      "outputs": [
        {
          "output_type": "stream",
          "name": "stdout",
          "text": [
            "0: ───H───M('q0_temp')───×───M('q0_result')───\n",
            "                         │\n",
            "1: ───H───M('q1_temp')───×───M('q1_result')───\n",
            "measurements: q0_result=1 q0_temp=1 q1_result=1 q1_temp=1\n",
            "output vector: |11⟩\n",
            "Sample the circuit:\n",
            "Counter({1: 500, 0: 500})\n",
            "Counter({1: 516, 0: 484})\n",
            "Counter({1: 516, 0: 484})\n",
            "Counter({1: 500, 0: 500})\n"
          ]
        }
      ],
      "source": [
        "swap_circuit = cirq.Circuit()\n",
        "q0, q1 = cirq.LineQubit.range(2)\n",
        "swap_circuit.append(cirq.H(q0))\n",
        "swap_circuit.append(cirq.H(q1))\n",
        "swap_circuit.append(cirq.measure(q0, key='q0_temp'))\n",
        "swap_circuit.append(cirq.measure(q1, key='q1_temp'))\n",
        "swap_circuit.append(cirq.SWAP(q0,q1))\n",
        "swap_circuit.append(cirq.measure(q0, key='q0_result'))\n",
        "swap_circuit.append(cirq.measure(q1, key='q1_result'))\n",
        "print(swap_circuit)\n",
        "#simuate\n",
        "s=cirq.Simulator()\n",
        "results = s.simulate(swap_circuit)\n",
        "print(results)\n",
        "#sample\n",
        "print('Sample the circuit:')\n",
        "samples=s.run(swap_circuit, repetitions=1000)\n",
        "print(samples.histogram(key='q0_temp'))\n",
        "print(samples.histogram(key='q1_temp'))\n",
        "print(samples.histogram(key='q0_result'))\n",
        "print(samples.histogram(key='q1_result'))"
      ]
    },
    {
      "source": [
        "as can be seen above, the states change"
      ],
      "cell_type": "markdown",
      "metadata": {}
    },
    {
      "source": [
        "### SWAP gate if qbits are in the same state"
      ],
      "cell_type": "markdown",
      "metadata": {}
    },
    {
      "cell_type": "code",
      "execution_count": 6,
      "metadata": {},
      "outputs": [
        {
          "output_type": "stream",
          "name": "stdout",
          "text": [
            "0: ───×───M('q0_result')───\n      │\n1: ───×───M('q1_result')───\nmeasurements: q0_result=0 q1_result=0\noutput vector: |00⟩\nSample the circuit:\nCounter({0: 1000})\nCounter({0: 1000})\n"
          ]
        }
      ],
      "source": [
        "swap_circuit = cirq.Circuit()\n",
        "q0, q1 = cirq.LineQubit.range(2)\n",
        "\n",
        "swap_circuit.append(cirq.SWAP(q0,q1))\n",
        "swap_circuit.append(cirq.measure(q0, key='q0_result'))\n",
        "swap_circuit.append(cirq.measure(q1, key='q1_result'))\n",
        "print(swap_circuit)\n",
        "#simuate\n",
        "s=cirq.Simulator()\n",
        "results = s.simulate(swap_circuit)\n",
        "print(results)\n",
        "#sample\n",
        "print('Sample the circuit:')\n",
        "samples=s.run(swap_circuit, repetitions=1000)\n",
        "\n",
        "print(samples.histogram(key='q0_result'))\n",
        "print(samples.histogram(key='q1_result'))"
      ]
    },
    {
      "source": [
        "### square root of swap"
      ],
      "cell_type": "markdown",
      "metadata": {}
    },
    {
      "cell_type": "code",
      "execution_count": 88,
      "metadata": {},
      "outputs": [
        {
          "output_type": "stream",
          "name": "stdout",
          "text": [
            "0: ───H───M('q0_temp')───×───────M('q0_result')───\n",
            "                         │\n",
            "1: ───H───M('q1_temp')───×^0.5───M('q1_result')───\n",
            "measurements: q0_result=0 q0_temp=0 q1_result=0 q1_temp=0\n",
            "output vector: |00⟩\n",
            "Sample the circuit:\n",
            "Counter({0: 512, 1: 488})\n",
            "Counter({0: 515, 1: 485})\n",
            "Counter({0: 513, 1: 487})\n",
            "Counter({0: 514, 1: 486})\n"
          ]
        }
      ],
      "source": [
        "swap_circuit = cirq.Circuit()\n",
        "q0, q1 = cirq.LineQubit.range(2)\n",
        "swap_circuit.append(cirq.H(q0))\n",
        "swap_circuit.append(cirq.H(q1))\n",
        "swap_circuit.append(cirq.measure(q0, key='q0_temp'))\n",
        "swap_circuit.append(cirq.measure(q1, key='q1_temp'))\n",
        "swap_circuit.append(cirq.SWAP(q0,q1)**0.5)\n",
        "swap_circuit.append(cirq.measure(q0, key='q0_result'))\n",
        "swap_circuit.append(cirq.measure(q1, key='q1_result'))\n",
        "print(swap_circuit)\n",
        "#simuate\n",
        "s=cirq.Simulator()\n",
        "results = s.simulate(swap_circuit)\n",
        "print(results)\n",
        "#sample\n",
        "print('Sample the circuit:')\n",
        "samples=s.run(swap_circuit, repetitions=1000)\n",
        "print(samples.histogram(key='q0_temp'))\n",
        "print(samples.histogram(key='q1_temp'))\n",
        "print(samples.histogram(key='q0_result'))\n",
        "print(samples.histogram(key='q1_result'))"
      ]
    }
  ]
}