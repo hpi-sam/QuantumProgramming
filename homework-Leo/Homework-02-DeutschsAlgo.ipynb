{
 "metadata": {
  "language_info": {
   "codemirror_mode": {
    "name": "ipython",
    "version": 3
   },
   "file_extension": ".py",
   "mimetype": "text/x-python",
   "name": "python",
   "nbconvert_exporter": "python",
   "pygments_lexer": "ipython3",
   "version": "3.8.5-final"
  },
  "orig_nbformat": 2,
  "kernelspec": {
   "name": "python3",
   "display_name": "Python 3",
   "language": "python"
  }
 },
 "nbformat": 4,
 "nbformat_minor": 2,
 "cells": [
  {
   "source": [
    "# Deutsch's Algorithm"
   ],
   "cell_type": "markdown",
   "metadata": {}
  },
  {
   "cell_type": "code",
   "execution_count": 1,
   "metadata": {},
   "outputs": [],
   "source": [
    "try:\n",
    "    import cirq as cirq\n",
    "except ImportError:\n",
    "    print(\"installing cirq...\")\n",
    "    !pip3 install --quiet cirq\n",
    "    print(\"installed cirq.\")"
   ]
  },
  {
   "cell_type": "code",
   "execution_count": 53,
   "metadata": {},
   "outputs": [],
   "source": [
    "def deutschs(functionImage):\n",
    "    circuit = cirq.Circuit()\n",
    "    q0, q1 = cirq.LineQubit.range(2)\n",
    "    circuit.append([cirq.X(q1), cirq.H(q1), cirq.H(q0)])\n",
    "    if functionImage[0]:\n",
    "        circuit.append([cirq.CNOT(q0, q1), cirq.X(q1)])\n",
    "    if functionImage[1]:\n",
    "        circuit.append(cirq.CNOT(q0, q1))\n",
    "    circuit.append([cirq.H(q0), cirq.measure(q0, key='result')])\n",
    "    print(circuit)\n",
    "    simulator = cirq.Simulator()\n",
    "    result = simulator.run(circuit)\n",
    "    return not result.measurements['result']"
   ]
  },
  {
   "cell_type": "code",
   "execution_count": 58,
   "metadata": {},
   "outputs": [
    {
     "output_type": "stream",
     "name": "stdout",
     "text": [
      "0: ───H───────@───H───M('result')───\n              │\n1: ───X───H───X───X─────────────────\nfunc is not constant\n"
     ]
    }
   ],
   "source": [
    "image = [1,0]\n",
    "if deutschs(image):\n",
    "    print('func is constant')\n",
    "else:\n",
    "    print('func is not constant')"
   ]
  },
  {
   "cell_type": "code",
   "execution_count": 5,
   "metadata": {},
   "outputs": [
    {
     "output_type": "stream",
     "name": "stdout",
     "text": [
      "0: ───@───────@───\n      │       │\n1: ───X───X───X───\n"
     ]
    }
   ],
   "source": [
    "import cirq as cirq\n",
    "mycircuit = cirq.Circuit()\n",
    "q0, q1 = cirq.LineQubit.range(2)\n",
    "def gen():\n",
    "    yield [cirq.CNOT(q0, q1), cirq.X(q1)]\n",
    "    yield cirq.CNOT(q0, q1)\n",
    "\n",
    "g = gen()\n",
    "mycircuit.append(g)\n",
    "print(mycircuit)\n"
   ]
  },
  {
   "source": [
    "## Two bit input"
   ],
   "cell_type": "markdown",
   "metadata": {}
  },
  {
   "cell_type": "code",
   "execution_count": 3,
   "metadata": {},
   "outputs": [],
   "source": [
    "q0, q1, q2 = cirq.LineQubit.range(3)\n",
    "\n",
    "constant = (\n",
    "    [], \n",
    "    [cirq.X(q2)]\n",
    ")\n",
    "\n",
    "balanced = (\n",
    "    [cirq.CNOT(q0, q2)], \n",
    "    [cirq.CNOT(q1, q2)], \n",
    "    [cirq.CNOT(q0, q2), cirq.CNOT(q1, q2)],\n",
    "    [cirq.CNOT(q0, q2), cirq.X(q2)], \n",
    "    [cirq.CNOT(q1, q2), cirq.X(q2)], \n",
    "    [cirq.CNOT(q0, q2), cirq.CNOT(q1, q2), cirq.X(q2)]\n",
    ")\n"
   ]
  },
  {
   "cell_type": "code",
   "execution_count": 4,
   "metadata": {},
   "outputs": [],
   "source": [
    "def dj_circuit(oracle):\n",
    "\n",
    "    yield cirq.X(q2), cirq.H(q2)\n",
    "    \n",
    "    yield cirq.H(q0), cirq.H(q1)\n",
    "    \n",
    "    yield oracle\n",
    "    \n",
    "    yield cirq.H(q0), cirq.H(q1), cirq.H(q2)\n",
    "    \n",
    "    yield cirq.X(q0), cirq.X(q1), cirq.CCX(q0, q1, q2)\n",
    "    yield cirq.measure(q2)"
   ]
  },
  {
   "cell_type": "code",
   "execution_count": 10,
   "metadata": {},
   "outputs": [
    {
     "output_type": "stream",
     "name": "stdout",
     "text": [
      "0: ───H───H───X───@───────\n                  │\n1: ───H───H───X───@───────\n                  │\n2: ───X───H───H───X───M───\n"
     ]
    }
   ],
   "source": [
    "circuit = cirq.Circuit(dj_circuit([]))\n",
    "print(circuit)"
   ]
  },
  {
   "cell_type": "code",
   "execution_count": 7,
   "metadata": {},
   "outputs": [
    {
     "output_type": "stream",
     "name": "stdout",
     "text": [
      "constant functions:\n2=0000000000\n2=0000000000\nbalanced functions:\n2=1111111111\n2=1111111111\n2=1111111111\n2=1111111111\n2=1111111111\n2=1111111111\n"
     ]
    }
   ],
   "source": [
    "s = cirq.Simulator()\n",
    "print(\"constant functions:\")\n",
    "for oracle in constant:\n",
    "    result = s.run(cirq.Circuit(dj_circuit(oracle)), repetitions=10)\n",
    "    print(result)\n",
    "    \n",
    "print(\"balanced functions:\")\n",
    "for oracle in balanced:\n",
    "    result = s.run(cirq.Circuit(dj_circuit(oracle)), repetitions=10)\n",
    "    print(result)"
   ]
  },
  {
   "cell_type": "code",
   "execution_count": null,
   "metadata": {},
   "outputs": [],
   "source": []
  }
 ]
}